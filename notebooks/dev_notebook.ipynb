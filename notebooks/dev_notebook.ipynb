{
 "cells": [
  {
   "cell_type": "code",
   "execution_count": 0,
   "metadata": {
    "application/vnd.databricks.v1+cell": {
     "cellMetadata": {
      "byteLimit": 2048000,
      "rowLimit": 10000
     },
     "inputWidgets": {},
     "nuid": "e437cda1-cace-4511-be16-ac5b867c7fd9",
     "showTitle": false,
     "tableResultSettingsMap": {},
     "title": ""
    },
    "collapsed": true
   },
   "outputs": [],
   "source": [
    "# Remove the %pip install command to avoid conflicts\n",
    "# %pip install --upgrade pandas\n",
    "\n",
    "# Build a machine learning API similar to the Cupid API’s Room Match feature. The API should handle POST requests and return sample request/response payloads in a similar format to the Cupid Room Match API. Provide a detailed explanation of your development process, including how you collect and process data, develop models, and scale the system.\n",
    "\n",
    "# --------------------\n",
    "# SOLUTION DESCRIPTION\n",
    "# --------------------\n",
    "\n",
    "# 1. User expedia has this \"supplier_room_names\": [\"King Deluxe\", \"Deluxe King Suite\", \"Standard King\"]\n",
    "# 2. Expedia gets \"Deluxe King Room\" from Expedia’s Internal Database, A User Searches for a Room\n",
    "# 3. Expedia sends  \"Deluxe King Room\" to the api and gets \"King Deluxe\"\n",
    "# I guess that the supplier room id we eant to match with the room id ? \n",
    "\n",
    "\n",
    "# -----\n",
    "# TODO\n",
    "# -----\n",
    "\n",
    "\n",
    "\n",
    "\n",
    "# -----\n",
    "# QUESTIONS \n",
    "# -----\n",
    "# Data Integration:\n",
    "# How should you merge the hotel and supplier datasets (what join key, and how do you handle one-to-many relationships)?\n",
    "\n",
    "# Matching Logic:\n",
    "# What is the rationale behind matching room names (e.g., string similarity), and how do you set similarity thresholds?\n",
    "\n",
    "# Scalability:\n",
    "# Given the huge data size, what strategies (batch processing, ANN, dimensional\n"
   ]
  },
  {
   "cell_type": "code",
   "execution_count": 0,
   "metadata": {
    "application/vnd.databricks.v1+cell": {
     "cellMetadata": {
      "byteLimit": 2048000,
      "rowLimit": 10000
     },
     "inputWidgets": {},
     "nuid": "e5cd9e24-b0a5-4eac-a50a-4efd4ffd1526",
     "showTitle": false,
     "tableResultSettingsMap": {},
     "title": ""
    }
   },
   "outputs": [],
   "source": [
    "import sys\n",
    "repo_path ='carlos.delacruz@storaenso.com/cupid_ml_api'\n",
    "sys.path.append(f\"/Workspace/Repos/{repo_path}\")\n",
    "import matplotlib.pyplot as plt"
   ]
  },
  {
   "cell_type": "code",
   "execution_count": 0,
   "metadata": {
    "application/vnd.databricks.v1+cell": {
     "cellMetadata": {
      "byteLimit": 2048000,
      "rowLimit": 10000
     },
     "inputWidgets": {},
     "nuid": "ba33ecb1-fa6a-4348-b630-4815097acb04",
     "showTitle": false,
     "tableResultSettingsMap": {},
     "title": ""
    }
   },
   "outputs": [],
   "source": [
    "import pandas as pd \n",
    "hotel_rooms = pd.read_csv(\"/dbfs/FileStore/cupid/referance_rooms_1737378184366.csv\")\n",
    "supplier_rooms = pd.read_csv(\"/dbfs/FileStore/cupid/updated_core_rooms.csv\")"
   ]
  },
  {
   "cell_type": "code",
   "execution_count": 0,
   "metadata": {
    "application/vnd.databricks.v1+cell": {
     "cellMetadata": {
      "byteLimit": 2048000,
      "rowLimit": 10000
     },
     "inputWidgets": {},
     "nuid": "fe20cb89-5e9d-4037-b5a6-09d4a7007156",
     "showTitle": false,
     "tableResultSettingsMap": {},
     "title": ""
    }
   },
   "outputs": [],
   "source": [
    "import sklearn"
   ]
  },
  {
   "cell_type": "code",
   "execution_count": 0,
   "metadata": {
    "application/vnd.databricks.v1+cell": {
     "cellMetadata": {
      "byteLimit": 2048000,
      "rowLimit": 10000
     },
     "inputWidgets": {},
     "nuid": "7af00c06-3ecf-4cca-bfe2-4e250b0a0f36",
     "showTitle": false,
     "tableResultSettingsMap": {},
     "title": ""
    }
   },
   "outputs": [],
   "source": [
    "sklearn.__version__"
   ]
  },
  {
   "cell_type": "code",
   "execution_count": 0,
   "metadata": {
    "application/vnd.databricks.v1+cell": {
     "cellMetadata": {},
     "inputWidgets": {},
     "nuid": "dc81735a-fee1-40c6-869a-c5cb64c7aed9",
     "showTitle": false,
     "tableResultSettingsMap": {},
     "title": ""
    }
   },
   "outputs": [],
   "source": []
  },
  {
   "cell_type": "code",
   "execution_count": 0,
   "metadata": {
    "application/vnd.databricks.v1+cell": {
     "cellMetadata": {
      "byteLimit": 2048000,
      "rowLimit": 10000
     },
     "inputWidgets": {},
     "nuid": "2df90950-f609-4a6d-a5f1-39f666ee3174",
     "showTitle": false,
     "tableResultSettingsMap": {},
     "title": ""
    }
   },
   "outputs": [],
   "source": [
    "# -----\n",
    "# MERGE \n",
    "# -----\n",
    "merged1 = pd.merge( hotel_rooms,supplier_rooms, on='lp_id', how='left')\n",
    "merged2 = pd.merge( hotel_rooms,supplier_rooms, on='lp_id', how='inner')"
   ]
  },
  {
   "cell_type": "code",
   "execution_count": 0,
   "metadata": {
    "application/vnd.databricks.v1+cell": {
     "cellMetadata": {
      "byteLimit": 2048000,
      "rowLimit": 10000
     },
     "inputWidgets": {},
     "nuid": "f688d147-9716-4799-974f-ae022dddafd6",
     "showTitle": false,
     "tableResultSettingsMap": {},
     "title": ""
    }
   },
   "outputs": [],
   "source": [
    "hotel_rooms.head()"
   ]
  },
  {
   "cell_type": "code",
   "execution_count": 0,
   "metadata": {
    "application/vnd.databricks.v1+cell": {
     "cellMetadata": {
      "byteLimit": 2048000,
      "rowLimit": 10000
     },
     "inputWidgets": {},
     "nuid": "19efc98a-6534-4d12-b2a6-9a8087c1bf6c",
     "showTitle": false,
     "tableResultSettingsMap": {},
     "title": ""
    }
   },
   "outputs": [],
   "source": [
    "supplier_rooms.head()"
   ]
  },
  {
   "cell_type": "markdown",
   "metadata": {
    "application/vnd.databricks.v1+cell": {
     "cellMetadata": {},
     "inputWidgets": {},
     "nuid": "29fd0aa4-9bfc-4208-8000-b6d92b362896",
     "showTitle": false,
     "tableResultSettingsMap": {},
     "title": ""
    }
   },
   "source": [
    "# Wrapper function test"
   ]
  },
  {
   "cell_type": "code",
   "execution_count": 0,
   "metadata": {
    "application/vnd.databricks.v1+cell": {
     "cellMetadata": {
      "byteLimit": 2048000,
      "rowLimit": 10000
     },
     "inputWidgets": {},
     "nuid": "c379d068-83a9-4d3f-9f37-b302c2a0f003",
     "showTitle": false,
     "tableResultSettingsMap": {},
     "title": ""
    }
   },
   "outputs": [],
   "source": [
    "import re\n",
    "import pandas as pd\n",
    "from sklearn.feature_extraction.text import TfidfVectorizer\n",
    "from sklearn.neighbors import NearestNeighbors\n",
    "import logging\n",
    "from typing import Tuple\n",
    "import pickle\n",
    "import os\n",
    "logging.basicConfig(level=logging.INFO)\n",
    "\n",
    "class RoomMatcher:\n",
    "    def __init__(self, top_k: int = 10, threshold: float = 0.75):\n",
    "        self.top_k = top_k\n",
    "        self.threshold = threshold\n",
    "        self.vectorizer = TfidfVectorizer()\n",
    "        self.knn = NearestNeighbors(n_neighbors=self.top_k, metric=\"cosine\", algorithm=\"auto\")\n",
    "        self.model_path = \"/dbfs/FileStore/cupid\"\n",
    "\n",
    "    @staticmethod\n",
    "    def preprocess_text(text: str) -> str:\n",
    "        \"\"\"Lowercase, remove special characters and extra spaces.\"\"\"\n",
    "        text = text.lower()\n",
    "        text = re.sub(r'[^a-z0-9 ]', '', text)  # Keep only alphanumeric\n",
    "        return re.sub(r'\\s+', ' ', text).strip()  # Remove extra spaces\n",
    "\n",
    "    def preprocess_data(self, hotel_rooms: pd.DataFrame, supplier_rooms: pd.DataFrame) -> Tuple:\n",
    "        \"\"\"Cleans and processes room names for vectorization and matching.\"\"\"\n",
    "        hotel_rooms = hotel_rooms.copy()\n",
    "        supplier_rooms = supplier_rooms.dropna().copy()\n",
    "\n",
    "        # Apply text preprocessing\n",
    "        hotel_rooms[\"clean_room_name\"] = hotel_rooms[\"room_name\"].apply(self.preprocess_text)\n",
    "        supplier_rooms[\"clean_supplier_room_name\"] = supplier_rooms[\"supplier_room_name\"].apply(self.preprocess_text)\n",
    "\n",
    "        # Group by unique cleaned names\n",
    "        hotel_rooms_grouped = hotel_rooms.groupby(\"clean_room_name\")[\"room_id\"].apply(list).reset_index()\n",
    "        supplier_rooms_grouped = supplier_rooms.groupby(\"clean_supplier_room_name\")[\"supplier_room_id\"].apply(\n",
    "            list).reset_index()\n",
    "\n",
    "        return hotel_rooms_grouped, supplier_rooms_grouped\n",
    "\n",
    "    def vectorize_data(self, hotel_rooms_grouped: pd.DataFrame, supplier_rooms_grouped: pd.DataFrame) -> Tuple:\n",
    "        \"\"\"Vectorizes room names using TF-IDF.\"\"\"\n",
    "        unique_hotel_names = hotel_rooms_grouped[\"clean_room_name\"].tolist()\n",
    "        unique_supplier_names = supplier_rooms_grouped[\"clean_supplier_room_name\"].tolist()\n",
    "\n",
    "        all_unique_room_names = unique_hotel_names + unique_supplier_names\n",
    "        tfidf_matrix = self.vectorizer.fit_transform(all_unique_room_names)\n",
    "\n",
    "        # Split matrices for hotel and supplier rooms\n",
    "        hotel_vectors = tfidf_matrix[:len(unique_hotel_names)]\n",
    "        supplier_vectors = tfidf_matrix[len(unique_hotel_names):]\n",
    "\n",
    "        return hotel_vectors, supplier_vectors\n",
    "\n",
    "    def find_best_matches(self, hotel_vectors, supplier_vectors, hotel_rooms_grouped,\n",
    "                          supplier_rooms_grouped) -> pd.DataFrame:\n",
    "        \"\"\"Finds the best matches for hotel rooms using kNN and cosine similarity.\"\"\"\n",
    "        self.knn.fit(supplier_vectors)  # Fit on supplier room vectors\n",
    "\n",
    "        distances, indices = self.knn.kneighbors(hotel_vectors, return_distance=True)\n",
    "\n",
    "        matches = []\n",
    "        hotel_room_ids = hotel_rooms_grouped.room_id.values\n",
    "        supplier_room_ids = supplier_rooms_grouped.supplier_room_id.values\n",
    "\n",
    "        for i, hotel_room_id in enumerate(hotel_room_ids):\n",
    "            for j in range(self.top_k):\n",
    "                supplier_index = indices[i][j]\n",
    "                similarity_score = 1 - distances[i][j]  # Convert cosine distance to similarity\n",
    "                if similarity_score > self.threshold:\n",
    "                    matches.append((hotel_room_id, supplier_room_ids[supplier_index], similarity_score))\n",
    "\n",
    "        return pd.DataFrame(matches, columns=[\"hotel_room_id\", \"supplier_room_id\", \"similarity_score\"])\n",
    "\n",
    "    def match_rooms(self, hotel_rooms: pd.DataFrame, supplier_rooms: pd.DataFrame) -> pd.DataFrame:\n",
    "        \"\"\"End-to-end process to match rooms.\"\"\"\n",
    "        hotel_rooms_grouped, supplier_rooms_grouped = self.preprocess_data(hotel_rooms, supplier_rooms)\n",
    "        hotel_vectors, supplier_vectors = self.vectorize_data(hotel_rooms_grouped, supplier_rooms_grouped)\n",
    "        return self.find_best_matches(hotel_vectors, supplier_vectors, hotel_rooms_grouped, supplier_rooms_grouped)\n",
    "\n",
    "    # -------------------------------------------------------\n",
    "    # TEST\n",
    "\n",
    "    def save_model(self):\n",
    "        \"\"\"Save the vectorizer, kNN model, and precomputed vectors.\"\"\"\n",
    "        os.makedirs(self.model_path, exist_ok=True)\n",
    "        pickle.dump(self.vectorizer, open(os.path.join(self.model_path, \"vectorizer.pkl\"), \"wb\"))\n",
    "        pickle.dump(self.knn, open(os.path.join(self.model_path, \"knn_model.pkl\"), \"wb\"))\n",
    "\n",
    "    def load_model(self):\n",
    "        \"\"\"Load the vectorizer, kNN model, and precomputed vectors.\"\"\"\n",
    "        self.vectorizer = pickle.load(open(os.path.join(self.model_path, \"vectorizer.pkl\"), \"rb\"))\n",
    "        self.knn = pickle.load(open(os.path.join(self.model_path, \"knn_model.pkl\"), \"rb\"))\n",
    "\n",
    "    # -------------------------------------------------------\n",
    "\n",
    "\n"
   ]
  },
  {
   "cell_type": "code",
   "execution_count": 0,
   "metadata": {
    "application/vnd.databricks.v1+cell": {
     "cellMetadata": {},
     "inputWidgets": {},
     "nuid": "9b666bb7-1cde-4db4-bb22-7a43fde5fb8c",
     "showTitle": false,
     "tableResultSettingsMap": {},
     "title": ""
    }
   },
   "outputs": [],
   "source": [
    "https://adb-853125847230356.16.azuredatabricks.net/files/Selfly/sql_db/full_transactions.csv?o=853125847230356"
   ]
  },
  {
   "cell_type": "code",
   "execution_count": 0,
   "metadata": {
    "application/vnd.databricks.v1+cell": {
     "cellMetadata": {},
     "inputWidgets": {},
     "nuid": "83e8ba62-8dae-4452-bfb6-a4013721ae37",
     "showTitle": false,
     "tableResultSettingsMap": {},
     "title": ""
    }
   },
   "outputs": [],
   "source": [
    "/dbfs/FileStore/cupid/knn_model.pkl\n",
    "\n",
    "https://adb-8153377270222175.15.azuredatabricks.net/files/cupid/preprocessed_supplier_rooms.csv?o=8153377270222175"
   ]
  },
  {
   "cell_type": "code",
   "execution_count": 0,
   "metadata": {
    "application/vnd.databricks.v1+cell": {
     "cellMetadata": {
      "byteLimit": 2048000,
      "rowLimit": 10000
     },
     "inputWidgets": {},
     "nuid": "29b15fd1-2dbf-4964-a8d5-e7cc1565be79",
     "showTitle": false,
     "tableResultSettingsMap": {},
     "title": ""
    }
   },
   "outputs": [],
   "source": [
    "# 1. SAVE MODEL TO DBS This should be stored in repo \n",
    "\n",
    "matcher = RoomMatcher()\n",
    "# hotel_rooms = pd.read_csv(\"datasets/referance_rooms.csv\")  # Load from local or cloud\n",
    "# supplier_rooms = pd.read_csv(\"datasets/updated_core_rooms.csv\")\n",
    "\n",
    "# hotel_rooms_sample = hotel_rooms.sample(n=1000)\n",
    "# supplier_rooms_sample = supplier_rooms.sample(n=1000)\n",
    "\n",
    "hotel_rooms_grouped, supplier_rooms_grouped = matcher.preprocess_data(hotel_rooms, supplier_rooms)\n",
    "hotel_vectors, supplier_vectors = matcher.vectorize_data(hotel_rooms_grouped, supplier_rooms_grouped)\n",
    "\n",
    "# # # Train and save the model\n",
    "# matcher.knn.fit(supplier_vectors)  # Train the kNN model\n",
    "# matcher.save_model()  # Save the trained models for later API usage\n"
   ]
  },
  {
   "cell_type": "code",
   "execution_count": 0,
   "metadata": {
    "application/vnd.databricks.v1+cell": {
     "cellMetadata": {
      "byteLimit": 2048000,
      "rowLimit": 10000
     },
     "inputWidgets": {},
     "nuid": "375639f5-dd8a-4e43-8a87-7b9baf5c1050",
     "showTitle": false,
     "tableResultSettingsMap": {},
     "title": ""
    }
   },
   "outputs": [],
   "source": [
    "vectorizer = pickle.load(open(\"/dbfs/FileStore/cupid/vectorizer.pkl\", \"rb\"))\n",
    "knn_model = pickle.load(open(\"/dbfs/FileStore/cupid/knn_model.pkl\", \"rb\"))\n",
    "\n",
    "# # Load room data\n",
    "# #hotel_rooms_grouped = pd.read_csv(\"datasets/preprocessed_hotel_rooms.csv\")  # Save this file earlier\n",
    "# supplier_rooms_grouped = pd.read_csv(\"datasets/preprocessed_supplier_rooms.csv\")  # Save this file earlier\n",
    "\n",
    "# save these files:\n",
    "#hotel_rooms_grouped, supplier_rooms_grouped\n"
   ]
  },
  {
   "cell_type": "code",
   "execution_count": 0,
   "metadata": {
    "application/vnd.databricks.v1+cell": {
     "cellMetadata": {
      "byteLimit": 2048000,
      "rowLimit": 10000
     },
     "inputWidgets": {},
     "nuid": "91f85074-1c4e-4b1a-af13-ab8d700a26ec",
     "showTitle": false,
     "tableResultSettingsMap": {},
     "title": ""
    }
   },
   "outputs": [],
   "source": [
    "hotel_rooms_grouped.to_csv(\"/dbfs/FileStore/cupid/preprocessed_hotel_rooms.csv\")\n",
    "supplier_rooms_grouped.to_csv(\"/dbfs/FileStore/cupid/preprocessed_supplier_rooms.csv\")"
   ]
  },
  {
   "cell_type": "code",
   "execution_count": 0,
   "metadata": {
    "application/vnd.databricks.v1+cell": {
     "cellMetadata": {},
     "inputWidgets": {},
     "nuid": "33256c66-4495-4174-9f82-063afdd534c1",
     "showTitle": false,
     "tableResultSettingsMap": {},
     "title": ""
    }
   },
   "outputs": [],
   "source": [
    "hotel_rooms_grouped.to"
   ]
  },
  {
   "cell_type": "code",
   "execution_count": 0,
   "metadata": {
    "application/vnd.databricks.v1+cell": {
     "cellMetadata": {},
     "inputWidgets": {},
     "nuid": "598cde33-77cf-4918-ac0a-99a10ae8a313",
     "showTitle": false,
     "tableResultSettingsMap": {},
     "title": ""
    }
   },
   "outputs": [],
   "source": []
  },
  {
   "cell_type": "code",
   "execution_count": 0,
   "metadata": {
    "application/vnd.databricks.v1+cell": {
     "cellMetadata": {
      "byteLimit": 2048000,
      "rowLimit": 10000
     },
     "inputWidgets": {},
     "nuid": "9d1a0036-9829-4d75-92ba-982663023858",
     "showTitle": false,
     "tableResultSettingsMap": {},
     "title": ""
    }
   },
   "outputs": [],
   "source": [
    "from flask import Flask, request, jsonify\n",
    "\n",
    "def match_rooms():\n",
    "    room_name = \"brasil\" # TEST\n",
    "    if room_name not in vectorizer.vocabulary_:\n",
    "        print(\"WARNING: 'apartment' not found in the vectorizer vocabulary!\")\n",
    "\n",
    "    if not room_name:\n",
    "        return jsonify({\"error\": \"room_name is required\"}), 400\n",
    "\n",
    "    # Vectorize the input room name\n",
    "    room_vector = vectorizer.transform([room_name])\n",
    "\n",
    "    # Find top-k matches\n",
    "    distances, indices = knn_model.kneighbors(room_vector, return_distance=True)\n",
    "  \n",
    "    # Initialize matched and unmatched rooms\n",
    "    results = []\n",
    "    unmapped_rooms = []\n",
    "\n",
    "    # Iterate over the indices and distances\n",
    "    for idx, dist in zip(indices[0], distances[0]):\n",
    "        similarity_score = 1 - dist  # Convert cosine distance to similarity\n",
    "        if similarity_score > 0.75:  # Ensure threshold condition\n",
    "\n",
    "            try:\n",
    "                # Get matched room details\n",
    "                matched_room = {\n",
    "                    \"supplierRoomName\": supplier_rooms_grouped.iloc[idx][\"clean_supplier_room_name\"],\n",
    "                    \"mappedRooms\": [\n",
    "                        {\n",
    "                            \"score\": similarity_score,\n",
    "                            \"supplierRoomId\": supplier_rooms_grouped.iloc[idx][\"supplier_room_id\"],\n",
    "                            \"supplierRoomName\": supplier_rooms_grouped.iloc[idx][\"clean_supplier_room_name\"]\n",
    "                        }\n",
    "                    ],\n",
    "            \n",
    "                }\n",
    "\n",
    "                results.append(matched_room)\n",
    "\n",
    "            except IndexError:\n",
    "                print(f\"Warning: Index {idx} is out of bounds for supplier_rooms_grouped!\")\n",
    "\n",
    "        else:\n",
    "            # Add to unmapped rooms if similarity score is below threshold\n",
    "            unmapped_room = {\n",
    "                \"supplierRoomName\": supplier_rooms_grouped.iloc[idx][\"clean_supplier_room_name\"],\n",
    "                \"supplierRoomId\": supplier_rooms_grouped.iloc[idx][\"supplier_room_id\"],\n",
    "            }\n",
    "            unmapped_rooms.append(unmapped_room)\n",
    "\n",
    "    return results, unmapped_rooms\n",
    "\n",
    "\n",
    "    # return jsonify({\n",
    "    #     \"Results\": results,\n",
    "    #     \"UnmappedRooms\": unmapped_rooms\n",
    "    # })\n",
    "   \n",
    "       \n",
    "results, unmapped_rooms =  match_rooms()"
   ]
  },
  {
   "cell_type": "code",
   "execution_count": 0,
   "metadata": {
    "application/vnd.databricks.v1+cell": {
     "cellMetadata": {
      "byteLimit": 2048000,
      "rowLimit": 10000
     },
     "inputWidgets": {},
     "nuid": "df3a989b-846e-46b9-92c7-1101c1845ea4",
     "showTitle": false,
     "tableResultSettingsMap": {},
     "title": ""
    }
   },
   "outputs": [],
   "source": [
    "results"
   ]
  },
  {
   "cell_type": "code",
   "execution_count": 0,
   "metadata": {
    "application/vnd.databricks.v1+cell": {
     "cellMetadata": {
      "byteLimit": 2048000,
      "rowLimit": 10000
     },
     "inputWidgets": {},
     "nuid": "fefe5d9c-f486-4cb1-963a-148892fda870",
     "showTitle": false,
     "tableResultSettingsMap": {},
     "title": ""
    }
   },
   "outputs": [],
   "source": [
    "unmapped_rooms"
   ]
  },
  {
   "cell_type": "code",
   "execution_count": 0,
   "metadata": {
    "application/vnd.databricks.v1+cell": {
     "cellMetadata": {
      "byteLimit": 2048000,
      "rowLimit": 10000
     },
     "inputWidgets": {},
     "nuid": "003d1600-0b68-4a36-8078-0ee91b4671dc",
     "showTitle": false,
     "tableResultSettingsMap": {},
     "title": ""
    }
   },
   "outputs": [],
   "source": [
    "# roomDescription\n",
    "# propertyId\n",
    "# propertyName\n",
    "# core_room_id ---> merge \n",
    "\n",
    "supplier_rooms.head()"
   ]
  },
  {
   "cell_type": "code",
   "execution_count": 0,
   "metadata": {
    "application/vnd.databricks.v1+cell": {
     "cellMetadata": {
      "byteLimit": 2048000,
      "rowLimit": 10000
     },
     "inputWidgets": {},
     "nuid": "2323b62f-ec8a-4a4b-bbc3-1ce8a327fd86",
     "showTitle": false,
     "tableResultSettingsMap": {},
     "title": ""
    }
   },
   "outputs": [],
   "source": [
    "supplier_rooms[supplier_rooms.supplier_room_id ==215728605]"
   ]
  },
  {
   "cell_type": "code",
   "execution_count": 0,
   "metadata": {
    "application/vnd.databricks.v1+cell": {
     "cellMetadata": {
      "byteLimit": 2048000,
      "rowLimit": 10000
     },
     "inputWidgets": {},
     "nuid": "fd4778d4-2d06-4e2b-b2ea-681beadc3565",
     "showTitle": false,
     "tableResultSettingsMap": {},
     "title": ""
    }
   },
   "outputs": [],
   "source": [
    "hotel_rooms.head()"
   ]
  },
  {
   "cell_type": "code",
   "execution_count": 0,
   "metadata": {
    "application/vnd.databricks.v1+cell": {
     "cellMetadata": {},
     "inputWidgets": {},
     "nuid": "6f3d00f8-d670-41ea-a836-3d8f35c9be20",
     "showTitle": false,
     "tableResultSettingsMap": {},
     "title": ""
    }
   },
   "outputs": [],
   "source": []
  },
  {
   "cell_type": "code",
   "execution_count": 0,
   "metadata": {
    "application/vnd.databricks.v1+cell": {
     "cellMetadata": {
      "byteLimit": 2048000,
      "rowLimit": 10000
     },
     "inputWidgets": {},
     "nuid": "9c8b11cc-c7e7-45f9-b745-6c191be70a73",
     "showTitle": false,
     "tableResultSettingsMap": {},
     "title": ""
    }
   },
   "outputs": [],
   "source": [
    "import mlflow.pyfunc\n",
    "vectorizer = TfidfVectorizer()\n",
    "\n",
    "mlflow.pyfunc.save_model(python_model=vectorizer, path=\"\")\n",
    "#mlflow.pyfunc.log_model(python_model=encoder_wrapped, artifact_path=encoder_path)"
   ]
  },
  {
   "cell_type": "code",
   "execution_count": 0,
   "metadata": {
    "application/vnd.databricks.v1+cell": {
     "cellMetadata": {},
     "inputWidgets": {},
     "nuid": "0fa1532d-9d4a-4784-8752-31b996f313e8",
     "showTitle": false,
     "tableResultSettingsMap": {},
     "title": ""
    }
   },
   "outputs": [],
   "source": []
  },
  {
   "cell_type": "code",
   "execution_count": 0,
   "metadata": {
    "application/vnd.databricks.v1+cell": {
     "cellMetadata": {},
     "inputWidgets": {},
     "nuid": "139b5c3e-a7b8-4a4c-a3e5-699f93dafa4c",
     "showTitle": false,
     "tableResultSettingsMap": {},
     "title": ""
    }
   },
   "outputs": [],
   "source": []
  },
  {
   "cell_type": "code",
   "execution_count": 0,
   "metadata": {
    "application/vnd.databricks.v1+cell": {
     "cellMetadata": {},
     "inputWidgets": {},
     "nuid": "e43e458c-bca2-4641-8131-cf8223a294cb",
     "showTitle": false,
     "tableResultSettingsMap": {},
     "title": ""
    }
   },
   "outputs": [],
   "source": []
  },
  {
   "cell_type": "code",
   "execution_count": 0,
   "metadata": {
    "application/vnd.databricks.v1+cell": {
     "cellMetadata": {},
     "inputWidgets": {},
     "nuid": "37d73a56-81c6-476c-b563-c788ba957371",
     "showTitle": false,
     "tableResultSettingsMap": {},
     "title": ""
    }
   },
   "outputs": [],
   "source": []
  },
  {
   "cell_type": "code",
   "execution_count": 0,
   "metadata": {
    "application/vnd.databricks.v1+cell": {
     "cellMetadata": {
      "byteLimit": 2048000,
      "rowLimit": 10000
     },
     "inputWidgets": {},
     "nuid": "96f3c7b2-2029-41e6-9c92-8b26bb4b0483",
     "showTitle": false,
     "tableResultSettingsMap": {},
     "title": ""
    }
   },
   "outputs": [],
   "source": [
    "vectorizer = pickle.load(open(\"/dbfs/FileStore/cupid/vectorizer.pkl\", \"rb\"))"
   ]
  },
  {
   "cell_type": "code",
   "execution_count": 0,
   "metadata": {
    "application/vnd.databricks.v1+cell": {
     "cellMetadata": {
      "byteLimit": 2048000,
      "rowLimit": 10000
     },
     "inputWidgets": {},
     "nuid": "7a416d30-37e5-4187-b152-64f3631a7f72",
     "showTitle": false,
     "tableResultSettingsMap": {},
     "title": ""
    }
   },
   "outputs": [],
   "source": [
    "supplier_rooms[supplier_rooms.supplier_room_name == \"room prestige 1\"]\n",
    "\n",
    "supplier_rooms_grouped[supplier_rooms_grouped.clean_supplier_room_name == \"room prestige 1\"]"
   ]
  },
  {
   "cell_type": "code",
   "execution_count": 0,
   "metadata": {
    "application/vnd.databricks.v1+cell": {
     "cellMetadata": {
      "byteLimit": 2048000,
      "rowLimit": 10000
     },
     "inputWidgets": {},
     "nuid": "7a5f1911-bb78-4b99-ad5a-7d7a22f577ed",
     "showTitle": false,
     "tableResultSettingsMap": {},
     "title": ""
    }
   },
   "outputs": [],
   "source": [
    "supplier_rooms_grouped.head()"
   ]
  },
  {
   "cell_type": "code",
   "execution_count": 0,
   "metadata": {
    "application/vnd.databricks.v1+cell": {
     "cellMetadata": {
      "byteLimit": 2048000,
      "rowLimit": 10000
     },
     "inputWidgets": {},
     "nuid": "cf90a143-d314-43f4-b175-1f672073b92a",
     "showTitle": false,
     "tableResultSettingsMap": {},
     "title": ""
    }
   },
   "outputs": [],
   "source": [
    "supplier_rooms[supplier_rooms.supplier_room_id == 200374592]\n"
   ]
  },
  {
   "cell_type": "code",
   "execution_count": 0,
   "metadata": {
    "application/vnd.databricks.v1+cell": {
     "cellMetadata": {
      "byteLimit": 2048000,
      "rowLimit": 10000
     },
     "inputWidgets": {},
     "nuid": "1d6d6977-9c59-434a-a6e7-dc8b5a8dc5ec",
     "showTitle": false,
     "tableResultSettingsMap": {},
     "title": ""
    }
   },
   "outputs": [],
   "source": [
    "supplier_rooms.head()"
   ]
  },
  {
   "cell_type": "code",
   "execution_count": 0,
   "metadata": {
    "application/vnd.databricks.v1+cell": {
     "cellMetadata": {
      "byteLimit": 2048000,
      "rowLimit": 10000
     },
     "inputWidgets": {},
     "nuid": "c21e3e97-e366-49ae-86ba-6700b30dc6a7",
     "showTitle": false,
     "tableResultSettingsMap": {},
     "title": ""
    }
   },
   "outputs": [],
   "source": [
    "# ---------------\n",
    "# TESTING RESULTS \n",
    "# ---------------\n",
    "hotel_rooms[hotel_rooms.room_id == 1143595263]\n",
    "#hotel_rooms[hotel_rooms.lp_id == \"lp6556d8a8\"]"
   ]
  },
  {
   "cell_type": "code",
   "execution_count": 0,
   "metadata": {
    "application/vnd.databricks.v1+cell": {
     "cellMetadata": {
      "byteLimit": 2048000,
      "rowLimit": 10000
     },
     "inputWidgets": {},
     "nuid": "c0eded54-a668-439f-8197-a45793fdd25b",
     "showTitle": false,
     "tableResultSettingsMap": {},
     "title": ""
    }
   },
   "outputs": [],
   "source": [
    "supplier_rooms[supplier_rooms.supplier_room_id == 220259669]\n",
    "#supplier_rooms[supplier_rooms.lp_id == \"lp6556d8a8\"]"
   ]
  },
  {
   "cell_type": "code",
   "execution_count": 0,
   "metadata": {
    "application/vnd.databricks.v1+cell": {
     "cellMetadata": {},
     "inputWidgets": {},
     "nuid": "b88f104c-f5d7-4653-b003-a78ed1348e8e",
     "showTitle": false,
     "tableResultSettingsMap": {},
     "title": ""
    }
   },
   "outputs": [],
   "source": []
  },
  {
   "cell_type": "code",
   "execution_count": 0,
   "metadata": {
    "application/vnd.databricks.v1+cell": {
     "cellMetadata": {},
     "inputWidgets": {},
     "nuid": "aaade0dc-687d-4cf2-96f5-0716f3746897",
     "showTitle": false,
     "tableResultSettingsMap": {},
     "title": ""
    }
   },
   "outputs": [],
   "source": []
  },
  {
   "cell_type": "code",
   "execution_count": 0,
   "metadata": {
    "application/vnd.databricks.v1+cell": {
     "cellMetadata": {},
     "inputWidgets": {},
     "nuid": "0cb97b89-a02a-439a-bf10-27c261c92bed",
     "showTitle": false,
     "tableResultSettingsMap": {},
     "title": ""
    }
   },
   "outputs": [],
   "source": []
  },
  {
   "cell_type": "markdown",
   "metadata": {
    "application/vnd.databricks.v1+cell": {
     "cellMetadata": {},
     "inputWidgets": {},
     "nuid": "035521aa-d782-4633-a360-51d94ee16f33",
     "showTitle": false,
     "tableResultSettingsMap": {},
     "title": ""
    }
   },
   "source": [
    "# 0. Preprocess"
   ]
  },
  {
   "cell_type": "code",
   "execution_count": 0,
   "metadata": {
    "application/vnd.databricks.v1+cell": {
     "cellMetadata": {
      "byteLimit": 2048000,
      "rowLimit": 10000
     },
     "inputWidgets": {},
     "nuid": "58a087a8-2d74-4de4-b601-6a01dbeb6ac9",
     "showTitle": false,
     "tableResultSettingsMap": {},
     "title": ""
    }
   },
   "outputs": [],
   "source": [
    "\n",
    "\n",
    "\n",
    "# ---------\n",
    "# hotel_rooms\n",
    "# ---------\n",
    "# There are more room ids than hottel rooms names \n",
    "# There are the sam amount of hotel ids and lp id \n",
    "# room ids shows how many availabe rooms are \n",
    "# --------------\n",
    "# supplier_rooms\n",
    "# --------------\n",
    "# There are more lp than in hotel_rooms\n",
    "# There is only 1 supplier name \n",
    "\n",
    "# This suggests that supplier room names can be very different from hotel room names and that a single hotel room may have multiple supplier room variations.\n",
    "\n",
    "# The supplier room names contain additional details such as \"Suite (Bohemian)\", \"Suite, Jetted Tub (Bird's Eye)\", and \"Plunge Pool Smart & Bold\".\n",
    "# This means a text similarity approach is needed to determine the best match, as supplier rooms include extra features.\n",
    "\n",
    "# Possible Mismatch in Room Categories:\n",
    "\n",
    "# The hotel has a basic \"Single Room\", while suppliers provide \"Suites\" and \"Duplex\" options.\n",
    "# This raises a question: Are all these supplier rooms actually equivalent to the hotel's \"Single Room\"? If not, filtering is needed to avoid incorrect mappings.\n",
    "\n",
    "\n",
    "# Differences in core_hotel_id Values:\n",
    "\n",
    "# All supplier rooms are linked to a different core_hotel_id (505554), meaning the supplier may have its own internal hotel ID system.\n",
    "# A mapping between hotel_id and core_hotel_id might be necessary to align hotels correctly.\n",
    "\n",
    "#supplier_rooms.info()"
   ]
  },
  {
   "cell_type": "markdown",
   "metadata": {
    "application/vnd.databricks.v1+cell": {
     "cellMetadata": {},
     "inputWidgets": {},
     "nuid": "63ba71ec-9f40-45ce-907e-62f4aa8f3b72",
     "showTitle": false,
     "tableResultSettingsMap": {},
     "title": ""
    }
   },
   "source": [
    "# 1. Frequency & Distribution Analysis"
   ]
  },
  {
   "cell_type": "code",
   "execution_count": 0,
   "metadata": {
    "application/vnd.databricks.v1+cell": {
     "cellMetadata": {
      "byteLimit": 2048000,
      "rowLimit": 10000
     },
     "inputWidgets": {},
     "nuid": "bbe0ad78-dcea-4f89-bbcb-d56d9594f235",
     "showTitle": false,
     "tableResultSettingsMap": {},
     "title": ""
    }
   },
   "outputs": [],
   "source": [
    "match_counts = merged1.groupby('room_id')['supplier_room_name'].nunique()\n",
    "match_counts.describe()\n"
   ]
  },
  {
   "cell_type": "code",
   "execution_count": 0,
   "metadata": {
    "application/vnd.databricks.v1+cell": {
     "cellMetadata": {
      "byteLimit": 2048000,
      "rowLimit": 10000
     },
     "inputWidgets": {},
     "nuid": "4d683aff-c9ac-48fe-ae8f-efb946548465",
     "showTitle": false,
     "tableResultSettingsMap": {},
     "title": ""
    }
   },
   "outputs": [],
   "source": [
    "plt.figure(figsize=(10, 5))\n",
    "plt.hist(match_counts, bins=50, edgecolor='black')\n",
    "plt.title(\"Distribution of Supplier Room Matches per Hotel Room\")\n",
    "plt.xlabel(\"Number of Supplier Rooms per Hotel Room\")\n",
    "plt.ylabel(\"Count of Hotel Rooms\")\n",
    "plt.yscale(\"log\")  # Log scale helps if distribution is highly skewed\n",
    "plt.grid(True)\n",
    "plt.show()\n"
   ]
  },
  {
   "cell_type": "code",
   "execution_count": 0,
   "metadata": {
    "application/vnd.databricks.v1+cell": {
     "cellMetadata": {
      "byteLimit": 2048000,
      "rowLimit": 10000
     },
     "inputWidgets": {},
     "nuid": "c734f26c-9850-4537-a20f-8de9ebd05449",
     "showTitle": false,
     "tableResultSettingsMap": {},
     "title": ""
    }
   },
   "outputs": [],
   "source": [
    "plt.figure(figsize=(8, 5))\n",
    "plt.boxplot(match_counts, vert=False, patch_artist=True)\n",
    "plt.title(\"Box Plot of Supplier Room Matches per Hotel Room\")\n",
    "plt.xlabel(\"Number of Supplier Rooms per Hotel Room\")\n",
    "plt.grid(True)\n",
    "plt.show()"
   ]
  },
  {
   "cell_type": "code",
   "execution_count": 0,
   "metadata": {
    "application/vnd.databricks.v1+cell": {
     "cellMetadata": {},
     "inputWidgets": {},
     "nuid": "f22ef8ea-4f50-4979-9ffa-b5b0f32b78f9",
     "showTitle": false,
     "tableResultSettingsMap": {},
     "title": ""
    }
   },
   "outputs": [],
   "source": [
    "# Your histogram and box plot reveal several key insights:\n",
    "\n",
    "# Most hotel rooms have fewer than 20 supplier matches (skewed distribution with a long tail).\n",
    "# A small number of hotel rooms have 40+ supplier matches, and extreme outliers go up to 100.\n",
    "# Outliers are significant (seen in the box plot), meaning some rooms are mapped to way too many supplier rooms."
   ]
  },
  {
   "cell_type": "markdown",
   "metadata": {
    "application/vnd.databricks.v1+cell": {
     "cellMetadata": {},
     "inputWidgets": {},
     "nuid": "fe7e7a93-cf1a-4f2a-a3a9-b5a97c64642f",
     "showTitle": false,
     "tableResultSettingsMap": {},
     "title": ""
    }
   },
   "source": [
    "# 2. Text Similarity Score Analysis\n"
   ]
  },
  {
   "cell_type": "code",
   "execution_count": 0,
   "metadata": {
    "application/vnd.databricks.v1+cell": {
     "cellMetadata": {},
     "inputWidgets": {},
     "nuid": "bde242d3-9093-4d2f-b8d6-32e2d0ec808e",
     "showTitle": false,
     "tableResultSettingsMap": {},
     "title": ""
    }
   },
   "outputs": [],
   "source": [
    "# . Define a Multiplicity Handling Strategy\n",
    "# Since one hotel room can match multiple supplier rooms, you need to decide how to filter or rank these matches:\n",
    "\n",
    "# Option A: Keep only the Top-N matches per hotel room\n",
    "# Based on similarity scores (if calculated later).\n",
    "# Example: Keep only the top 3 or top 5 supplier rooms per hotel room.\n",
    "# Option B: Apply a similarity score threshold\n",
    "# If a match is below a certain similarity (e.g., cosine similarity < 0.7), discard it.\n",
    "# Option C: Business Rule Filtering\n",
    "# Prioritize supplier rooms from trusted suppliers over others.\n",
    "# Keep supplier rooms that have the most common words with the hotel room name."
   ]
  },
  {
   "cell_type": "code",
   "execution_count": 0,
   "metadata": {
    "application/vnd.databricks.v1+cell": {
     "cellMetadata": {
      "byteLimit": 2048000,
      "rowLimit": 10000
     },
     "inputWidgets": {},
     "nuid": "0cd09c83-7a3e-4525-b57b-99519dfe13f9",
     "showTitle": false,
     "tableResultSettingsMap": {},
     "title": ""
    }
   },
   "outputs": [],
   "source": [
    "supplier_rooms.isnull().sum()"
   ]
  },
  {
   "cell_type": "code",
   "execution_count": 0,
   "metadata": {
    "application/vnd.databricks.v1+cell": {
     "cellMetadata": {},
     "inputWidgets": {},
     "nuid": "5bfa03c8-b171-4ed5-8837-3ecd09157668",
     "showTitle": false,
     "tableResultSettingsMap": {},
     "title": ""
    }
   },
   "outputs": [],
   "source": []
  },
  {
   "cell_type": "code",
   "execution_count": 0,
   "metadata": {
    "application/vnd.databricks.v1+cell": {
     "cellMetadata": {
      "byteLimit": 2048000,
      "rowLimit": 10000
     },
     "inputWidgets": {},
     "nuid": "4ee81d4b-4a0c-4075-8ac9-23e20b962abd",
     "showTitle": false,
     "tableResultSettingsMap": {},
     "title": ""
    }
   },
   "outputs": [],
   "source": [
    "# ---------------------------------------\n",
    "# 1 . PRE  PRE PROCESSING & CLEANING DATA \n",
    "# ---------------------------------------\n",
    "\n",
    "\n",
    "import pandas as pd\n",
    "import re\n",
    "# import nltk\n",
    "# from nltk.corpus import stopwords\n",
    "# from nltk.stem import WordNetLemmatizer\n",
    "\n",
    "from sklearn.feature_extraction.text import TfidfVectorizer\n",
    "from sklearn.metrics.pairwise import cosine_similarity\n",
    "\n",
    "\n",
    "# nltk.download('stopwords')\n",
    "# nltk.download('wordnet')\n",
    "\n",
    "\n",
    "def preprocess_text(text):\n",
    "    \"\"\"Lowercase, remove special characters and extra spaces.\"\"\"\n",
    "    text = text.lower()\n",
    "    text = re.sub(r'[^a-z0-9 ]', '', text)  # Keep only alphanumeric\n",
    "    text = re.sub(r'\\s+', ' ', text).strip()  # Remove extra spaces\n",
    "    return text\n",
    "\n",
    "# Apply cleaning\n",
    "hotel_rooms[\"clean_room_name\"] = hotel_rooms[\"room_name\"].apply(preprocess_text)\n",
    "supplier_rooms.dropna(inplace=True)\n",
    "supplier_rooms[\"clean_supplier_room_name\"] = supplier_rooms[\"supplier_room_name\"].apply(preprocess_text)"
   ]
  },
  {
   "cell_type": "code",
   "execution_count": 0,
   "metadata": {
    "application/vnd.databricks.v1+cell": {
     "cellMetadata": {
      "byteLimit": 2048000,
      "rowLimit": 10000
     },
     "inputWidgets": {},
     "nuid": "b78f6e9c-fb3d-44e9-aa11-23ca3a9bc209",
     "showTitle": false,
     "tableResultSettingsMap": {},
     "title": ""
    }
   },
   "outputs": [],
   "source": [
    "# vectorizer = TfidfVectorizer()\n",
    "# all_room_names = hotel_rooms[\"clean_room_name\"].tolist() + supplier_rooms[\"clean_supplier_room_name\"].tolist()\n",
    "\n",
    "# NOTE: THERE ARE DUPLICATES \n",
    "# Q: how to treat duplicates ?  \n",
    "# INSIGHT: Since each duplicate room name has a different room_id, removing duplicates blindly is risky because we might lose important room mappings. Here's a structured way to proceed:\n",
    "\n"
   ]
  },
  {
   "cell_type": "code",
   "execution_count": 0,
   "metadata": {
    "application/vnd.databricks.v1+cell": {
     "cellMetadata": {
      "byteLimit": 2048000,
      "rowLimit": 10000
     },
     "inputWidgets": {},
     "nuid": "84631944-697a-46e5-ba0b-5fae9766e0b4",
     "showTitle": false,
     "tableResultSettingsMap": {},
     "title": ""
    }
   },
   "outputs": [],
   "source": [
    "\n",
    "\n",
    "# NTEO: Now, each unique room name has a list of associated room IDs instead of duplicates.\n",
    "\n",
    "hotel_rooms_grouped = hotel_rooms.groupby(\"clean_room_name\")[\"room_id\"].apply(list).reset_index()\n",
    "supplier_rooms_grouped = supplier_rooms.groupby(\"clean_supplier_room_name\")[\"supplier_room_id\"].apply(list).reset_index()\n",
    "# hotel_rooms_grouped[hotel_rooms_grouped.room_id.apply(lambda x:len(x) >1 )] \n",
    "\n",
    "# Use only unique room names for TF-IDF vectorization.\n",
    "# Later, map back to the original room IDs.\n",
    "\n",
    "# Extract unique room names\n",
    "unique_hotel_names = hotel_rooms_grouped[\"clean_room_name\"].tolist()\n",
    "unique_supplier_names = supplier_rooms_grouped[\"clean_supplier_room_name\"].tolist()\n",
    "\n",
    "# Compute TF-IDF only on unique names\n",
    "vectorizer = TfidfVectorizer()\n",
    "all_unique_room_names = unique_hotel_names + unique_supplier_names\n",
    "\n",
    "tfidf_matrix = vectorizer.fit_transform(all_unique_room_names)\n",
    "print('FITED  MATRIX')\n",
    "\n",
    "\n",
    "\n",
    "# Split matrices and hotel_vectors\n",
    "print('len(unique_hotel_names)', len(unique_hotel_names))\n",
    "\n",
    "hotel_vectors = tfidf_matrix[:len(unique_hotel_names)]\n",
    "supplier_vectors = tfidf_matrix[len(unique_hotel_names):]\n",
    "\n",
    "# ********************************************************************************\n",
    "\n",
    "print('supplier_vectors before fitted', supplier_vectors.shape)\n",
    "print('FITED  MATRIX')\n",
    "# -------------------------\n",
    "# FIRST TRY : MEMORY ERROR: \n",
    "# -------------------------\n",
    "\n",
    "# # Compute Cosine Similarity\n",
    "# print('COMPUTE COSINE SIMILARITY MATRIX')\n",
    "# similarity_matrix = cosine_similarity(hotel_vectors, supplier_vectors)\n",
    "\n",
    "\n"
   ]
  },
  {
   "cell_type": "code",
   "execution_count": 0,
   "metadata": {
    "application/vnd.databricks.v1+cell": {
     "cellMetadata": {
      "byteLimit": 2048000,
      "rowLimit": 10000
     },
     "inputWidgets": {},
     "nuid": "201e1129-9ca7-44e0-9da0-0122da756bc7",
     "showTitle": false,
     "tableResultSettingsMap": {},
     "title": ""
    }
   },
   "outputs": [],
   "source": [
    "# compare 1 to 1 : Why is supplier vector not in the same shape ? \n",
    "\n",
    "# hotel_rooms_grouped1,supplier_rooms_grouped1,all_unique_room_names1, vectorizer1, tfidf_matrix1, supplier_vectors1"
   ]
  },
  {
   "cell_type": "code",
   "execution_count": 0,
   "metadata": {
    "application/vnd.databricks.v1+cell": {
     "cellMetadata": {
      "byteLimit": 2048000,
      "rowLimit": 10000
     },
     "inputWidgets": {},
     "nuid": "95b20e69-a36d-49db-88d5-9c9a193a15ec",
     "showTitle": false,
     "tableResultSettingsMap": {},
     "title": ""
    }
   },
   "outputs": [],
   "source": [
    "\n",
    "pd.testing.assert_frame_equal(hotel_rooms_grouped, hotel_rooms_grouped1)\n",
    "pd.testing.assert_frame_equal(supplier_rooms_grouped, supplier_rooms_grouped1)"
   ]
  },
  {
   "cell_type": "code",
   "execution_count": 0,
   "metadata": {
    "application/vnd.databricks.v1+cell": {
     "cellMetadata": {},
     "inputWidgets": {},
     "nuid": "25df0c65-5b62-4888-9741-fe206ca9c143",
     "showTitle": false,
     "tableResultSettingsMap": {},
     "title": ""
    }
   },
   "outputs": [],
   "source": []
  },
  {
   "cell_type": "code",
   "execution_count": 0,
   "metadata": {
    "application/vnd.databricks.v1+cell": {
     "cellMetadata": {
      "byteLimit": 2048000,
      "rowLimit": 10000
     },
     "inputWidgets": {},
     "nuid": "3548f5a2-3238-453a-9610-2a6ce9d1ff53",
     "showTitle": false,
     "tableResultSettingsMap": {},
     "title": ""
    }
   },
   "outputs": [],
   "source": [
    "assert all_unique_room_names == all_unique_room_names1"
   ]
  },
  {
   "cell_type": "code",
   "execution_count": 0,
   "metadata": {
    "application/vnd.databricks.v1+cell": {
     "cellMetadata": {
      "byteLimit": 2048000,
      "rowLimit": 10000
     },
     "inputWidgets": {},
     "nuid": "bb927dfa-8324-4c28-858e-4252e81cdf15",
     "showTitle": false,
     "tableResultSettingsMap": {},
     "title": ""
    }
   },
   "outputs": [],
   "source": [
    "assert vectorizer1.get_params() == vectorizer.get_params(), \"Vectorizer parameters are different!\"\n"
   ]
  },
  {
   "cell_type": "code",
   "execution_count": 0,
   "metadata": {
    "application/vnd.databricks.v1+cell": {
     "cellMetadata": {
      "byteLimit": 2048000,
      "rowLimit": 10000
     },
     "inputWidgets": {},
     "nuid": "c59adff1-ecf9-4ae6-8114-e59368d68c60",
     "showTitle": false,
     "tableResultSettingsMap": {},
     "title": ""
    }
   },
   "outputs": [],
   "source": [
    "assert (tfidf_matrix != tfidf_matrix1).nnz == 0, \"CSR matrices are different!\"\n"
   ]
  },
  {
   "cell_type": "code",
   "execution_count": 0,
   "metadata": {
    "application/vnd.databricks.v1+cell": {
     "cellMetadata": {
      "byteLimit": 2048000,
      "rowLimit": 10000
     },
     "inputWidgets": {},
     "nuid": "ef87b3d1-1f5a-414a-81e4-d12e27b4686e",
     "showTitle": false,
     "tableResultSettingsMap": {},
     "title": ""
    }
   },
   "outputs": [],
   "source": [
    "tfidf_matrix.shape"
   ]
  },
  {
   "cell_type": "code",
   "execution_count": 0,
   "metadata": {
    "application/vnd.databricks.v1+cell": {
     "cellMetadata": {
      "byteLimit": 2048000,
      "rowLimit": 10000
     },
     "inputWidgets": {},
     "nuid": "86d08ef0-e82e-4374-89c4-9ba917d6819d",
     "showTitle": false,
     "tableResultSettingsMap": {},
     "title": ""
    }
   },
   "outputs": [],
   "source": [
    "tfidf_matrix1.shape"
   ]
  },
  {
   "cell_type": "code",
   "execution_count": 0,
   "metadata": {
    "application/vnd.databricks.v1+cell": {
     "cellMetadata": {
      "byteLimit": 2048000,
      "rowLimit": 10000
     },
     "inputWidgets": {},
     "nuid": "85c0ce19-69d7-4266-80d5-a89ed91ea8b4",
     "showTitle": false,
     "tableResultSettingsMap": {},
     "title": ""
    }
   },
   "outputs": [],
   "source": [
    "supplier_vectors.shape"
   ]
  },
  {
   "cell_type": "code",
   "execution_count": 0,
   "metadata": {
    "application/vnd.databricks.v1+cell": {
     "cellMetadata": {
      "byteLimit": 2048000,
      "rowLimit": 10000
     },
     "inputWidgets": {},
     "nuid": "03117bcb-d580-496d-b10f-8ce345454419",
     "showTitle": false,
     "tableResultSettingsMap": {},
     "title": ""
    }
   },
   "outputs": [],
   "source": [
    "supplier_vectors1.shape"
   ]
  },
  {
   "cell_type": "code",
   "execution_count": 0,
   "metadata": {
    "application/vnd.databricks.v1+cell": {
     "cellMetadata": {},
     "inputWidgets": {},
     "nuid": "5b734112-0f34-4c53-84c7-68737496c9a4",
     "showTitle": false,
     "tableResultSettingsMap": {},
     "title": ""
    }
   },
   "outputs": [],
   "source": []
  },
  {
   "cell_type": "code",
   "execution_count": 0,
   "metadata": {
    "application/vnd.databricks.v1+cell": {
     "cellMetadata": {},
     "inputWidgets": {},
     "nuid": "a56efc5e-fdf1-4565-8a15-a80323bc729e",
     "showTitle": false,
     "tableResultSettingsMap": {},
     "title": ""
    }
   },
   "outputs": [],
   "source": []
  },
  {
   "cell_type": "code",
   "execution_count": 0,
   "metadata": {
    "application/vnd.databricks.v1+cell": {
     "cellMetadata": {},
     "inputWidgets": {},
     "nuid": "fe2f418d-8446-4280-9b88-80fabeabae18",
     "showTitle": false,
     "tableResultSettingsMap": {},
     "title": ""
    }
   },
   "outputs": [],
   "source": []
  },
  {
   "cell_type": "code",
   "execution_count": 0,
   "metadata": {
    "application/vnd.databricks.v1+cell": {
     "cellMetadata": {
      "byteLimit": 2048000,
      "rowLimit": 10000
     },
     "inputWidgets": {},
     "nuid": "acc2cafe-298d-4fc8-b353-95edd4caada6",
     "showTitle": false,
     "tableResultSettingsMap": {},
     "title": ""
    }
   },
   "outputs": [],
   "source": [
    "# ---------\n",
    "# OPTION 2: \n",
    "# ---------\n",
    "import numpy as np\n",
    "import pandas as pd\n",
    "from sklearn.neighbors import NearestNeighbors\n",
    "\n",
    "# Set number of closest matches to retrieve\n",
    "top_k = 5  \n",
    "\n",
    "# Initialize kNN model with cosine similarity\n",
    "knn = NearestNeighbors(n_neighbors=top_k, metric=\"cosine\", algorithm=\"auto\")\n",
    "knn.fit(supplier_vectors)  # Fit on supplier rooms\n",
    "print('supplier_vectors after fitted', supplier_vectors.shape)\n",
    "\n",
    "# Find top-k similar rooms for hotel rooms\n",
    "distances, indices = knn.kneighbors(hotel_vectors, return_distance=True)\n",
    "hotel_room_ids = hotel_rooms_grouped.room_id.values  # Ensure correct ordering\n",
    "supplier_room_ids = supplier_rooms_grouped.supplier_room_id.values\n",
    "\n",
    "# Convert to DataFrame\n",
    "matches = []\n",
    "for i, hotel_room_id in enumerate(hotel_room_ids):\n",
    "    for j in range(top_k):\n",
    "        supplier_index = indices[i][j]\n",
    "        supplier_room_id = supplier_room_ids[supplier_index]\n",
    "        similarity_score = 1 - distances[i][j]  # Convert cosine distance to similarity\n",
    "\n",
    "        matches.append((hotel_room_id, supplier_room_id, similarity_score))\n",
    "\n",
    "matches_df = pd.DataFrame(matches, columns=[\"hotel_room_id\", \"supplier_room_id\", \"similarity_score\"])\n",
    "\n",
    "# Show sample output\n",
    "best_matches_df  = matches_df[matches_df[\"similarity_score\"] > 0.75]\n",
    "\n"
   ]
  },
  {
   "cell_type": "code",
   "execution_count": 0,
   "metadata": {
    "application/vnd.databricks.v1+cell": {
     "cellMetadata": {
      "byteLimit": 2048000,
      "rowLimit": 10000
     },
     "inputWidgets": {},
     "nuid": "2bade1dd-179f-48e0-8d87-98793dbe01f0",
     "showTitle": false,
     "tableResultSettingsMap": {},
     "title": ""
    }
   },
   "outputs": [],
   "source": [
    "print(hotel_rooms_grouped.shape)\n",
    "print(supplier_rooms_grouped.shape)\n",
    "print(len(unique_hotel_names))\n",
    "print(len(unique_supplier_names))\n",
    "print('all_unique_room_names', len(all_unique_room_names))\n",
    "print('supplier_vectors2 shape',supplier_vectors.shape)"
   ]
  },
  {
   "cell_type": "code",
   "execution_count": 0,
   "metadata": {
    "application/vnd.databricks.v1+cell": {
     "cellMetadata": {
      "byteLimit": 2048000,
      "rowLimit": 10000
     },
     "inputWidgets": {},
     "nuid": "c3b2d531-e213-4b54-a49b-f251171fcfa5",
     "showTitle": false,
     "tableResultSettingsMap": {},
     "title": ""
    }
   },
   "outputs": [],
   "source": [
    "best_matches_df.shape"
   ]
  },
  {
   "cell_type": "code",
   "execution_count": 0,
   "metadata": {
    "application/vnd.databricks.v1+cell": {
     "cellMetadata": {
      "byteLimit": 2048000,
      "rowLimit": 10000
     },
     "inputWidgets": {},
     "nuid": "fa353b09-80a3-4dec-a265-1d1ee288e5b9",
     "showTitle": false,
     "tableResultSettingsMap": {},
     "title": ""
    }
   },
   "outputs": [],
   "source": [
    "pd.testing.assert_frame_equal(best_matches_df, best_matches_df1)\n"
   ]
  },
  {
   "cell_type": "code",
   "execution_count": 0,
   "metadata": {
    "application/vnd.databricks.v1+cell": {
     "cellMetadata": {},
     "inputWidgets": {},
     "nuid": "a8dcedbc-caa6-4714-9503-b576031fcfec",
     "showTitle": false,
     "tableResultSettingsMap": {},
     "title": ""
    }
   },
   "outputs": [],
   "source": []
  },
  {
   "cell_type": "code",
   "execution_count": 0,
   "metadata": {
    "application/vnd.databricks.v1+cell": {
     "cellMetadata": {},
     "inputWidgets": {},
     "nuid": "36353851-6f13-41ee-b4b1-2ebc8744b98f",
     "showTitle": false,
     "tableResultSettingsMap": {},
     "title": ""
    }
   },
   "outputs": [],
   "source": []
  },
  {
   "cell_type": "code",
   "execution_count": 0,
   "metadata": {
    "application/vnd.databricks.v1+cell": {
     "cellMetadata": {
      "byteLimit": 2048000,
      "rowLimit": 10000
     },
     "inputWidgets": {},
     "nuid": "9c641aba-8599-4e00-849f-4ce6df3f74fa",
     "showTitle": false,
     "tableResultSettingsMap": {},
     "title": ""
    }
   },
   "outputs": [],
   "source": [
    "(671458, 99006)\n",
    "(27467, 99006)\n",
    "\n",
    "(27467, 99006)\n",
    "(671458, 99006)\n",
    "\n",
    "27467\n",
    "671458\n",
    "\n",
    "len(hotel_room_ids)\n"
   ]
  },
  {
   "cell_type": "code",
   "execution_count": 0,
   "metadata": {
    "application/vnd.databricks.v1+cell": {
     "cellMetadata": {
      "byteLimit": 2048000,
      "rowLimit": 10000
     },
     "inputWidgets": {},
     "nuid": "0a9b9e19-eb20-4840-b360-5fb1bcdeeaff",
     "showTitle": false,
     "tableResultSettingsMap": {},
     "title": ""
    }
   },
   "outputs": [],
   "source": [
    "len(supplier_room_ids)"
   ]
  },
  {
   "cell_type": "code",
   "execution_count": 0,
   "metadata": {
    "application/vnd.databricks.v1+cell": {
     "cellMetadata": {
      "byteLimit": 2048000,
      "rowLimit": 10000
     },
     "inputWidgets": {},
     "nuid": "59730575-5d25-42c1-b5ce-8c19675865fa",
     "showTitle": false,
     "tableResultSettingsMap": {},
     "title": ""
    }
   },
   "outputs": [],
   "source": [
    "best_matches_df2.shape"
   ]
  },
  {
   "cell_type": "code",
   "execution_count": 0,
   "metadata": {
    "application/vnd.databricks.v1+cell": {
     "cellMetadata": {
      "byteLimit": 2048000,
      "rowLimit": 10000
     },
     "inputWidgets": {},
     "nuid": "65dfc603-119f-408d-b7f4-6355b7f2ba81",
     "showTitle": false,
     "tableResultSettingsMap": {},
     "title": ""
    }
   },
   "outputs": [],
   "source": [
    "best_matches_df1.shape"
   ]
  },
  {
   "cell_type": "code",
   "execution_count": 0,
   "metadata": {
    "application/vnd.databricks.v1+cell": {
     "cellMetadata": {},
     "inputWidgets": {},
     "nuid": "ee0e649c-4886-4652-88ee-e8258e5af64f",
     "showTitle": false,
     "tableResultSettingsMap": {},
     "title": ""
    }
   },
   "outputs": [],
   "source": [
    "# shape is diferece"
   ]
  },
  {
   "cell_type": "code",
   "execution_count": 0,
   "metadata": {
    "application/vnd.databricks.v1+cell": {
     "cellMetadata": {},
     "inputWidgets": {},
     "nuid": "325b5de0-90d3-4fcd-af58-3a42800d791b",
     "showTitle": false,
     "tableResultSettingsMap": {},
     "title": ""
    }
   },
   "outputs": [],
   "source": []
  },
  {
   "cell_type": "code",
   "execution_count": 0,
   "metadata": {
    "application/vnd.databricks.v1+cell": {
     "cellMetadata": {},
     "inputWidgets": {},
     "nuid": "b47405f1-0275-45c8-9e27-bc72e26e0d7e",
     "showTitle": false,
     "tableResultSettingsMap": {},
     "title": ""
    }
   },
   "outputs": [],
   "source": []
  },
  {
   "cell_type": "code",
   "execution_count": 0,
   "metadata": {
    "application/vnd.databricks.v1+cell": {
     "cellMetadata": {
      "byteLimit": 2048000,
      "rowLimit": 10000
     },
     "inputWidgets": {},
     "nuid": "5c258b87-96a3-45ab-81d2-7ba3d2be0794",
     "showTitle": false,
     "tableResultSettingsMap": {},
     "title": ""
    }
   },
   "outputs": [],
   "source": [
    "\n",
    "# -------------------------\n",
    "# SECOND TRY : MEMORY ERROR \n",
    "# -------------------------\n",
    "\n",
    "# import faiss\n",
    "# import numpy as np\n",
    "\n",
    "# Convert TF-IDF matrices to numpy arrays\n",
    "# THIS FAILED with memory issue \n",
    "# hotel_vectors_np = hotel_vectors.toarray().astype('float32')\n",
    "# supplier_vectors_np = supplier_vectors.toarray().astype('float32')\n",
    "\n",
    "# hotel_vectors = hotel_vectors.tocsr()  # Keep as sparse matrix\n",
    "# supplier_vectors = supplier_vectors.tocsr()\n",
    "\n",
    "# Ensure vectors are in float32 format and dense\n",
    "# hotel_vectors = hotel_vectors.toarray().astype(np.float32)  # Convert sparse to dense if needed\n",
    "# supplier_vectors = supplier_vectors.toarray().astype(np.float32)"
   ]
  },
  {
   "cell_type": "code",
   "execution_count": 0,
   "metadata": {
    "application/vnd.databricks.v1+cell": {
     "cellMetadata": {
      "byteLimit": 2048000,
      "rowLimit": 10000
     },
     "inputWidgets": {},
     "nuid": "6bdbdabf-0df2-4d06-b567-2636f54cc647",
     "showTitle": false,
     "tableResultSettingsMap": {},
     "title": ""
    }
   },
   "outputs": [],
   "source": [
    "# hotel_vectors = hotel_vectors.tocsr()  # Keep as sparse matrix\n",
    "# supplier_vectors = supplier_vectors.tocsr()\n",
    "\n",
    "# # Create FAISS index for supplier vectors\n",
    "# index = faiss.IndexFlatL2(supplier_vectors.shape[1])  # L2 (Euclidean) is similar to cosine similarity for normalized vectors\n",
    "# index.add(supplier_vectors)\n",
    "\n",
    "# # Search for top 5 closest supplier rooms per hotel room\n",
    "# k = 5  # Number of matches per hotel room\n",
    "# distances, indices = index.search(hotel_vectors, k)\n",
    "\n",
    "# # Create match dataframe\n",
    "# matches = []\n",
    "# for i, hotel_room_id in enumerate(hotel_rooms_grouped[\"room_id\"]):\n",
    "#     for j in range(k):\n",
    "#         supplier_index = indices[i][j]\n",
    "#         if supplier_index != -1:\n",
    "#             supplier_room_id = supplier_rooms_grouped.iloc[supplier_index][\"supplier_room_id\"]\n",
    "#             matches.append((hotel_room_id, supplier_room_id, distances[i][j]))\n",
    "\n",
    "# matches_df = pd.DataFrame(matches, columns=[\"hotel_room_id\", \"supplier_room_id\", \"similarity_score\"])"
   ]
  },
  {
   "cell_type": "code",
   "execution_count": 0,
   "metadata": {
    "application/vnd.databricks.v1+cell": {
     "cellMetadata": {
      "byteLimit": 2048000,
      "rowLimit": 10000
     },
     "inputWidgets": {},
     "nuid": "2514bb23-e135-44c6-b290-e6292690ca52",
     "showTitle": false,
     "tableResultSettingsMap": {},
     "title": ""
    }
   },
   "outputs": [],
   "source": [
    "# from sklearn.metrics.pairwise import cosine_similarity\n",
    "\n",
    "# batch_size = 100  # Reduce based on available memory\n",
    "# similarities = []\n",
    "# hotel_room_ids = hotel_rooms.room_id.unique()\n",
    "# supplier_room_ids = supplier_rooms.supplier_room_id.unique()\n",
    "\n",
    "# for i in range(0, hotel_vectors.shape[0], batch_size):\n",
    "#     batch_hotel_vectors = hotel_vectors[i : i + batch_size]\n",
    "#     batch_similarity = cosine_similarity(batch_hotel_vectors, supplier_vectors)\n",
    "#     print('cosine similarity computed')\n",
    "\n",
    "#     for j, hotel_id in enumerate(hotel_room_ids[i : i + batch_size]):\n",
    "#         for k, supplier_id in enumerate(supplier_room_ids):\n",
    "#             similarities.append((hotel_id, supplier_id, batch_similarity[j, k]))\n",
    "\n",
    "# matches_df = pd.DataFrame(similarities, columns=[\"hotel_room_id\", \"supplier_room_id\", \"similarity_score\"])\n"
   ]
  },
  {
   "cell_type": "code",
   "execution_count": 0,
   "metadata": {
    "application/vnd.databricks.v1+cell": {
     "cellMetadata": {
      "byteLimit": 2048000,
      "rowLimit": 10000
     },
     "inputWidgets": {},
     "nuid": "72c067e1-0dee-4dbe-9cea-e1c1c12aad3e",
     "showTitle": false,
     "tableResultSettingsMap": {},
     "title": ""
    }
   },
   "outputs": [],
   "source": [
    "# from sklearn.metrics.pairwise import cosine_similarity\n",
    "# import pandas as pd\n",
    "\n",
    "# batch_size = 100  # Reduce if running out of memory\n",
    "# similarities = []\n",
    "\n",
    "# hotel_room_ids = hotel_rooms_grouped.room_id.values  # Ensure correct ordering\n",
    "# supplier_room_ids = supplier_rooms_grouped.supplier_room_id.values\n",
    "\n",
    "# assert hotel_vectors.shape[0] == len(hotel_room_ids), \"Mismatch in hotel vectors and hotel room IDs\"\n",
    "# assert supplier_vectors.shape[0] == len(supplier_room_ids), \"Mismatch in supplier vectors and supplier room IDs\"\n",
    "\n",
    "# for i in range(0, hotel_vectors.shape[0], batch_size):\n",
    "#     batch_hotel_vectors = hotel_vectors[i : i + batch_size]\n",
    "#     batch_similarity = cosine_similarity(batch_hotel_vectors, supplier_vectors)\n",
    "#     print(f'Cosine similarity computed for batch {i} to {i + batch_size}')\n",
    "\n",
    "#     batch_hotel_ids = hotel_room_ids[i : i + batch_hotel_vectors.shape[0]]  # Ensure alignment\n",
    "\n",
    "#     for j, hotel_id in enumerate(batch_hotel_ids):\n",
    "#         for k, supplier_id in enumerate(supplier_room_ids[:batch_similarity.shape[1]]):  # Avoid out-of-bounds\n",
    "#             similarities.append((hotel_id, supplier_id, batch_similarity[j, k]))\n",
    "\n",
    "# matches_df = pd.DataFrame(similarities, columns=[\"hotel_room_id\", \"supplier_room_id\", \"similarity_score\"])\n"
   ]
  },
  {
   "cell_type": "code",
   "execution_count": 0,
   "metadata": {
    "application/vnd.databricks.v1+cell": {
     "cellMetadata": {},
     "inputWidgets": {},
     "nuid": "9e522aa1-f1c8-4ec0-adc8-97ebe9b95eae",
     "showTitle": false,
     "tableResultSettingsMap": {},
     "title": ""
    }
   },
   "outputs": [],
   "source": [
    "supplier_rooms[supplier_rooms.supplier_room_id == 221421116]"
   ]
  },
  {
   "cell_type": "code",
   "execution_count": 0,
   "metadata": {
    "application/vnd.databricks.v1+cell": {
     "cellMetadata": {},
     "inputWidgets": {},
     "nuid": "83caba03-e5af-4570-96f7-627d0d0421b2",
     "showTitle": false,
     "tableResultSettingsMap": {},
     "title": ""
    }
   },
   "outputs": [],
   "source": []
  },
  {
   "cell_type": "markdown",
   "metadata": {
    "application/vnd.databricks.v1+cell": {
     "cellMetadata": {},
     "inputWidgets": {},
     "nuid": "6d0fb5bd-252b-4429-b1f2-e7acf5bf4066",
     "showTitle": false,
     "tableResultSettingsMap": {},
     "title": ""
    }
   },
   "source": [
    "# 3. Business Rule Consideration"
   ]
  },
  {
   "cell_type": "code",
   "execution_count": 0,
   "metadata": {
    "application/vnd.databricks.v1+cell": {
     "cellMetadata": {},
     "inputWidgets": {},
     "nuid": "50e29f11-7725-4417-88f5-685ded168025",
     "showTitle": false,
     "tableResultSettingsMap": {},
     "title": ""
    }
   },
   "outputs": [],
   "source": [
    "# Define Success Metrics:\n",
    "# Decide if the primary goal is to return the best match (a single supplier room) or a ranked list of candidates.\n",
    "# Example Questions:\n",
    "# Does the business value presenting multiple options ranked by similarity?\n",
    "# Are there external factors (like supplier partnerships) that might override the similarity ranking?"
   ]
  },
  {
   "cell_type": "code",
   "execution_count": 0,
   "metadata": {
    "application/vnd.databricks.v1+cell": {
     "cellMetadata": {
      "byteLimit": 2048000,
      "rowLimit": 10000
     },
     "inputWidgets": {},
     "nuid": "ad586760-805d-46ff-a235-fc436058611e",
     "showTitle": false,
     "tableResultSettingsMap": {},
     "title": ""
    }
   },
   "outputs": [],
   "source": [
    "hotel_rooms[hotel_rooms.room_id == 1143595263]\n",
    "# 1 Bed in 10-Bed Signature Shared Dormitory, Me...\n",
    "# Bed in 10-Bed Men Only Shared Dormitory\tbed in 10bed men only shared \n",
    "# Shared Dormitory, Men only (Bed in 10-Bed Room)\t"
   ]
  },
  {
   "cell_type": "code",
   "execution_count": 0,
   "metadata": {
    "application/vnd.databricks.v1+cell": {
     "cellMetadata": {
      "byteLimit": 2048000,
      "rowLimit": 10000
     },
     "inputWidgets": {},
     "nuid": "565c8b60-41bf-4407-a35b-43d35e353fe1",
     "showTitle": false,
     "tableResultSettingsMap": {},
     "title": ""
    }
   },
   "outputs": [],
   "source": []
  },
  {
   "cell_type": "code",
   "execution_count": 0,
   "metadata": {
    "application/vnd.databricks.v1+cell": {
     "cellMetadata": {
      "byteLimit": 2048000,
      "rowLimit": 10000
     },
     "inputWidgets": {},
     "nuid": "99ff402f-b5bd-4836-915b-0e24273f4fbe",
     "showTitle": false,
     "tableResultSettingsMap": {},
     "title": ""
    }
   },
   "outputs": [],
   "source": [
    "supplier_rooms[supplier_rooms.duplicated(subset=[\"clean_supplier_room_name\"], keep=False)]"
   ]
  },
  {
   "cell_type": "code",
   "execution_count": 0,
   "metadata": {
    "application/vnd.databricks.v1+cell": {
     "cellMetadata": {
      "byteLimit": 2048000,
      "rowLimit": 10000
     },
     "inputWidgets": {},
     "nuid": "950bf46a-1d1f-4840-ae69-1a493e2c1bd4",
     "showTitle": false,
     "tableResultSettingsMap": {},
     "title": ""
    }
   },
   "outputs": [],
   "source": [
    "hotel_rooms[hotel_rooms.clean_room_name == 'double or twin room']"
   ]
  },
  {
   "cell_type": "code",
   "execution_count": 0,
   "metadata": {
    "application/vnd.databricks.v1+cell": {
     "cellMetadata": {
      "byteLimit": 2048000,
      "rowLimit": 10000
     },
     "inputWidgets": {},
     "nuid": "2ed1836c-ed70-4f12-856a-dd2d8eaf8347",
     "showTitle": false,
     "tableResultSettingsMap": {},
     "title": ""
    }
   },
   "outputs": [],
   "source": [
    "supplier_rooms[supplier_rooms.clean_supplier_room_name == 'superior double room']"
   ]
  },
  {
   "cell_type": "markdown",
   "metadata": {
    "application/vnd.databricks.v1+cell": {
     "cellMetadata": {},
     "inputWidgets": {},
     "nuid": "9c8740dd-a79e-4650-b6f6-5ec13e5656fb",
     "showTitle": false,
     "tableResultSettingsMap": {},
     "title": ""
    }
   },
   "source": []
  },
  {
   "cell_type": "code",
   "execution_count": 0,
   "metadata": {
    "application/vnd.databricks.v1+cell": {
     "cellMetadata": {},
     "inputWidgets": {},
     "nuid": "ee2e9434-0299-43c7-a7c1-b72124161245",
     "showTitle": false,
     "tableResultSettingsMap": {},
     "title": ""
    }
   },
   "outputs": [],
   "source": []
  },
  {
   "cell_type": "code",
   "execution_count": 0,
   "metadata": {
    "application/vnd.databricks.v1+cell": {
     "cellMetadata": {},
     "inputWidgets": {},
     "nuid": "dd410920-3f08-4bcc-ae74-455ac0268b6c",
     "showTitle": false,
     "tableResultSettingsMap": {},
     "title": ""
    }
   },
   "outputs": [],
   "source": []
  },
  {
   "cell_type": "code",
   "execution_count": 0,
   "metadata": {
    "application/vnd.databricks.v1+cell": {
     "cellMetadata": {
      "byteLimit": 2048000,
      "rowLimit": 10000
     },
     "inputWidgets": {},
     "nuid": "1bc9956f-615e-48db-9106-411a19abd72f",
     "showTitle": false,
     "tableResultSettingsMap": {},
     "title": ""
    }
   },
   "outputs": [],
   "source": [
    "hotel_rooms[hotel_rooms.duplicated(subset=[\"clean_room_name\"],keep=False)].value_counts()\n"
   ]
  },
  {
   "cell_type": "code",
   "execution_count": 0,
   "metadata": {
    "application/vnd.databricks.v1+cell": {
     "cellMetadata": {},
     "inputWidgets": {},
     "nuid": "5e0346b5-688e-4bb7-b7e2-5ffab2e01d87",
     "showTitle": false,
     "tableResultSettingsMap": {},
     "title": ""
    }
   },
   "outputs": [],
   "source": []
  },
  {
   "cell_type": "code",
   "execution_count": 0,
   "metadata": {
    "application/vnd.databricks.v1+cell": {
     "cellMetadata": {
      "byteLimit": 2048000,
      "rowLimit": 10000
     },
     "inputWidgets": {},
     "nuid": "34733f87-212a-49b8-b215-4cb8df37630c",
     "showTitle": false,
     "tableResultSettingsMap": {},
     "title": ""
    }
   },
   "outputs": [],
   "source": [
    "print(len(all_room_names))\n",
    "print(len(set(all_room_names)))"
   ]
  },
  {
   "cell_type": "code",
   "execution_count": 0,
   "metadata": {
    "application/vnd.databricks.v1+cell": {
     "cellMetadata": {},
     "inputWidgets": {},
     "nuid": "5269f3aa-658d-45b2-a4f5-a86b6e843f66",
     "showTitle": false,
     "tableResultSettingsMap": {},
     "title": ""
    }
   },
   "outputs": [],
   "source": []
  },
  {
   "cell_type": "code",
   "execution_count": 0,
   "metadata": {
    "application/vnd.databricks.v1+cell": {
     "cellMetadata": {},
     "inputWidgets": {},
     "nuid": "a46ce450-5a27-4b91-be3d-e8363a391e38",
     "showTitle": false,
     "tableResultSettingsMap": {},
     "title": ""
    }
   },
   "outputs": [],
   "source": [
    "# Assume 'similarity_scores' is an array of cosine similarities between a hotel room and its supplier candidates.\n",
    "plt.hist(similarity_scores, bins=50)\n",
    "plt.title(\"Distribution of Similarity Scores\")\n",
    "plt.xlabel(\"Cosine Similarity\")\n",
    "plt.ylabel(\"Frequency\")\n",
    "plt.show()"
   ]
  },
  {
   "cell_type": "code",
   "execution_count": 0,
   "metadata": {
    "application/vnd.databricks.v1+cell": {
     "cellMetadata": {},
     "inputWidgets": {},
     "nuid": "d5fdc0a9-4401-4d76-9525-acc7ca20cd11",
     "showTitle": false,
     "tableResultSettingsMap": {},
     "title": ""
    }
   },
   "outputs": [],
   "source": []
  },
  {
   "cell_type": "code",
   "execution_count": 0,
   "metadata": {
    "application/vnd.databricks.v1+cell": {
     "cellMetadata": {},
     "inputWidgets": {},
     "nuid": "3eda1fae-1d74-4177-9e6d-ace8e84a5a79",
     "showTitle": false,
     "tableResultSettingsMap": {},
     "title": ""
    }
   },
   "outputs": [],
   "source": []
  },
  {
   "cell_type": "code",
   "execution_count": 0,
   "metadata": {
    "application/vnd.databricks.v1+cell": {
     "cellMetadata": {},
     "inputWidgets": {},
     "nuid": "07da4ad0-8df5-46ae-8b23-bb69cc3d6810",
     "showTitle": false,
     "tableResultSettingsMap": {},
     "title": ""
    }
   },
   "outputs": [],
   "source": []
  },
  {
   "cell_type": "code",
   "execution_count": 0,
   "metadata": {
    "application/vnd.databricks.v1+cell": {
     "cellMetadata": {
      "byteLimit": 2048000,
      "rowLimit": 10000
     },
     "inputWidgets": {},
     "nuid": "9362d541-f40a-4430-a95e-5c55304f8ca2",
     "showTitle": false,
     "tableResultSettingsMap": {},
     "title": ""
    }
   },
   "outputs": [],
   "source": []
  },
  {
   "cell_type": "code",
   "execution_count": 0,
   "metadata": {
    "application/vnd.databricks.v1+cell": {
     "cellMetadata": {
      "byteLimit": 2048000,
      "rowLimit": 10000
     },
     "inputWidgets": {},
     "nuid": "3ed6648d-e200-4c2d-b4c2-b43f85bb2a8e",
     "showTitle": false,
     "tableResultSettingsMap": {},
     "title": ""
    }
   },
   "outputs": [],
   "source": [
    "hotel_rooms.room_name.nunique()"
   ]
  },
  {
   "cell_type": "code",
   "execution_count": 0,
   "metadata": {
    "application/vnd.databricks.v1+cell": {
     "cellMetadata": {
      "byteLimit": 2048000,
      "rowLimit": 10000
     },
     "inputWidgets": {},
     "nuid": "5983089b-0fa5-4c4b-b7a6-434ff30b4991",
     "showTitle": false,
     "tableResultSettingsMap": {},
     "title": ""
    }
   },
   "outputs": [],
   "source": [
    "supplier_rooms.supplier_room_name.nunique()"
   ]
  },
  {
   "cell_type": "code",
   "execution_count": 0,
   "metadata": {
    "application/vnd.databricks.v1+cell": {
     "cellMetadata": {
      "byteLimit": 2048000,
      "rowLimit": 10000
     },
     "inputWidgets": {},
     "nuid": "60761444-e273-4ec5-ab4d-b9e8cd49ea07",
     "showTitle": false,
     "tableResultSettingsMap": {},
     "title": ""
    }
   },
   "outputs": [],
   "source": []
  },
  {
   "cell_type": "code",
   "execution_count": 0,
   "metadata": {
    "application/vnd.databricks.v1+cell": {
     "cellMetadata": {
      "byteLimit": 2048000,
      "rowLimit": 10000
     },
     "inputWidgets": {},
     "nuid": "25c8fb3d-8b44-402b-b6bf-cfa825e3d023",
     "showTitle": false,
     "tableResultSettingsMap": {},
     "title": ""
    }
   },
   "outputs": [],
   "source": [
    "hotel_rooms.head()"
   ]
  },
  {
   "cell_type": "code",
   "execution_count": 0,
   "metadata": {
    "application/vnd.databricks.v1+cell": {
     "cellMetadata": {},
     "inputWidgets": {},
     "nuid": "9cae0e76-be60-4a4a-a81e-0988546112bc",
     "showTitle": false,
     "tableResultSettingsMap": {},
     "title": ""
    }
   },
   "outputs": [],
   "source": []
  },
  {
   "cell_type": "code",
   "execution_count": 0,
   "metadata": {
    "application/vnd.databricks.v1+cell": {
     "cellMetadata": {
      "byteLimit": 2048000,
      "rowLimit": 10000
     },
     "inputWidgets": {},
     "nuid": "c2464213-4718-4e0b-80c1-1076c2ea8fa9",
     "showTitle": false,
     "tableResultSettingsMap": {},
     "title": ""
    }
   },
   "outputs": [],
   "source": [
    "hotel_rooms[hotel_rooms.room_id == 1142756923]"
   ]
  },
  {
   "cell_type": "code",
   "execution_count": 0,
   "metadata": {
    "application/vnd.databricks.v1+cell": {
     "cellMetadata": {
      "byteLimit": 2048000,
      "rowLimit": 10000
     },
     "inputWidgets": {},
     "nuid": "0c22c71f-4c6c-4898-84d3-116e2737d63e",
     "showTitle": false,
     "tableResultSettingsMap": {},
     "title": ""
    }
   },
   "outputs": [],
   "source": [
    "merged1[merged1.room_id == 1142756923]"
   ]
  },
  {
   "cell_type": "code",
   "execution_count": 0,
   "metadata": {
    "application/vnd.databricks.v1+cell": {
     "cellMetadata": {},
     "inputWidgets": {},
     "nuid": "3f413357-ddd8-41c3-8b00-40c54f155799",
     "showTitle": false,
     "tableResultSettingsMap": {},
     "title": ""
    }
   },
   "outputs": [],
   "source": [
    "# Determine the Join Strategy:\n",
    "# If your API needs to combine hotel/room details with supplier information, you might perform an inner join or left join using the common column lp_id.\n",
    "\n",
    "# Text Standardization:\n",
    "# For text fields like room_name or supplier_room_name, consider lowercasing or removing extra spaces to help with matching queries."
   ]
  },
  {
   "cell_type": "code",
   "execution_count": 0,
   "metadata": {
    "application/vnd.databricks.v1+cell": {
     "cellMetadata": {
      "byteLimit": 2048000,
      "rowLimit": 10000
     },
     "inputWidgets": {},
     "nuid": "98e0b965-f974-41e8-bef7-530ee38d5da9",
     "showTitle": false,
     "tableResultSettingsMap": {},
     "title": ""
    }
   },
   "outputs": [],
   "source": [
    "\n",
    "import pandas as pd\n",
    "import re\n",
    "from sklearn.feature_extraction.text import TfidfVectorizer\n",
    "from sklearn.metrics.pairwise import cosine_similarity\n",
    "from fuzzywuzzy import process  # Fuzzy matching for minor variations\n",
    "\n",
    "# ---------- STEP 2: NLP SIMILARITY MATCHING ----------\n",
    "# Vectorizing text using TF-IDF\n",
    "vectorizer = TfidfVectorizer()\n",
    "all_room_names = hotel_rooms['clean_room_name'].unique().tolist() + supplier_rooms['clean_supplier_room_name'].unique().tolist()\n",
    "tfidf_matrix = vectorizer.fit_transform(all_room_names)\n",
    "print('matrix created')\n",
    "# Compute cosine similarity\n",
    "hotel_vectors = tfidf_matrix[:len(hotel_rooms)]\n",
    "supplier_vectors = tfidf_matrix[len(hotel_rooms):]\n",
    "similarity_matrix = cosine_similarity(hotel_vectors, supplier_vectors)\n",
    "\n",
    "# # ---------- STEP 3: RULE-BASED FILTERING ----------\n",
    "# def match_rooms(hotel_name, supplier_names):\n",
    "#     \"\"\"Match hotel room name with supplier rooms using fuzzy matching.\"\"\"\n",
    "#     best_match, score = process.extractOne(hotel_name, supplier_names)\n",
    "#     return best_match if score > 80 else None  # Threshold to avoid bad matches\n",
    "\n",
    "# supplier_room_list = supplier_rooms['clean_supplier_room_name'].tolist()\n",
    "# hotel_rooms['matched_supplier_room'] = hotel_rooms['clean_room_name'].apply(\n",
    "#     lambda x: match_rooms(x, supplier_room_list)\n",
    "# )\n",
    "\n",
    "# # Filter based on bed type, room type, and amenities (Custom Rules)\n",
    "# def is_valid_match(hotel_room, supplier_room):\n",
    "#     \"\"\"Ensure matching rooms have similar attributes (bed type, suite, etc.).\"\"\"\n",
    "#     # Example: \"single\" should not match with \"suite\"\n",
    "#     invalid_keywords = [\"suite\", \"plunge\", \"jetted\", \"duplex\"]\n",
    "#     if any(word in supplier_room for word in invalid_keywords) and \"single\" in hotel_room:\n",
    "#         return False\n",
    "#     return True\n",
    "\n",
    "# hotel_rooms['valid_match'] = hotel_rooms.apply(\n",
    "#     lambda row: is_valid_match(row['clean_room_name'], row['matched_supplier_room']), axis=1\n",
    "# )\n",
    "\n",
    "# # Show final mapping\n",
    "# print(hotel_rooms[['room_name', 'matched_supplier_room', 'valid_match']])"
   ]
  },
  {
   "cell_type": "code",
   "execution_count": 0,
   "metadata": {
    "application/vnd.databricks.v1+cell": {
     "cellMetadata": {
      "byteLimit": 2048000,
      "rowLimit": 10000
     },
     "inputWidgets": {},
     "nuid": "32c183d3-a5cf-4a99-8a7e-e51a9050ce87",
     "showTitle": false,
     "tableResultSettingsMap": {},
     "title": ""
    }
   },
   "outputs": [],
   "source": [
    "from sklearn.preprocessing import normalize\n",
    "\n",
    "# Normalize vectors row-wise (L2 normalization)\n",
    "hotel_vectors = normalize(hotel_vectors, norm='l2', axis=1)\n",
    "supplier_vectors = normalize(supplier_vectors, norm='l2', axis=1)\n",
    "\n",
    "# Compute similarity efficiently using sparse matrix multiplication\n",
    "similarity_matrix = hotel_vectors @ supplier_vectors.T"
   ]
  },
  {
   "cell_type": "code",
   "execution_count": 0,
   "metadata": {
    "application/vnd.databricks.v1+cell": {
     "cellMetadata": {},
     "inputWidgets": {},
     "nuid": "40d8d4dc-d9d2-421a-9678-01d139dd560f",
     "showTitle": false,
     "tableResultSettingsMap": {},
     "title": ""
    }
   },
   "outputs": [],
   "source": []
  },
  {
   "cell_type": "markdown",
   "metadata": {
    "application/vnd.databricks.v1+cell": {
     "cellMetadata": {},
     "inputWidgets": {},
     "nuid": "f4904d57-ab57-404d-9329-9377f4212ce0",
     "showTitle": false,
     "tableResultSettingsMap": {},
     "title": ""
    }
   },
   "source": [
    "# Model "
   ]
  },
  {
   "cell_type": "code",
   "execution_count": 0,
   "metadata": {
    "application/vnd.databricks.v1+cell": {
     "cellMetadata": {},
     "inputWidgets": {},
     "nuid": "6639a215-91a2-453d-8fd7-a767bd296dac",
     "showTitle": false,
     "tableResultSettingsMap": {},
     "title": ""
    }
   },
   "outputs": [],
   "source": [
    "# ---------------\n",
    "# CURRENT SOLUTION\n",
    "# ---------------\n",
    "# Breaking Down the Descriptions:\n",
    "# Both the standard room data and the supplier room data are turned into lists of features. For example, parts of the room description (like “double-person”, “one-double-bed”, “classic-room”, etc.) are split into tokens or categories.\n",
    "\n",
    "# Comparing Feature Tokens:\n",
    "# The algorithm then compares these tokens between the two sources. If the tokens (or features) match well, it assigns a high similarity score—in these examples, a perfect score of 1.\n",
    "\n",
    "# Mapping and Unmapping:\n",
    "# Rooms that match closely (i.e., have very similar tokens) are grouped together as “mappedRooms.” If the supplier’s room description doesn’t match any known standard description, it ends up in “UnmappedRooms.”\n",
    "\n",
    "\n",
    "# ---------------\n",
    "# MDOELLING \n",
    "# ---------------\n",
    "# 1. NLP for Better Text Understanding\n",
    "# Text Cleaning and Tokenization:\n",
    "# Instead of simply comparing raw text, use NLP to clean and break down room names and descriptions into meaningful parts (tokens). This can include lowercasing, removing stop words (common words that add little value), and even stemming or lemmatization (reducing words to their basic form).\n",
    "\n",
    "# Word Embeddings:\n",
    "# Use pre-trained models (like Word2Vec, GloVe, or Sentence Transformers) to convert room descriptions into numerical vectors that capture their meaning. This way, you can compare rooms based on their semantic similarity rather than just keyword matches. For example, two descriptions that use different words but have the same meaning can be recognized as similar.\n",
    "\n",
    "# Cosine Similarity:\n",
    "# Once you have vector representations, you can compute the cosine similarity between a hotel room’s description and a supplier room’s description. A high cosine similarity score would indicate a strong match even if the texts are not exactly the same.\n",
    "\n",
    "# 2. Machine Learning for Predictive Matching\n",
    "# Supervised Learning:\n",
    "# If you have historical data showing which supplier rooms correctly matched with hotel rooms, you can train a machine learning model (like a neural network, random forest, or support vector machine) to learn the matching patterns. The model can take in features extracted from text (using NLP) and metadata (such as room type or amenities) and predict the best match.\n",
    "\n",
    "# Clustering:\n",
    "# Use clustering algorithms (like K-means or hierarchical clustering) on the vectorized room descriptions to automatically group similar rooms together. This can help in identifying patterns and segmenting the rooms into distinct categories without predefined rules.\n",
    "\n",
    "# Fuzzy Matching:\n",
    "# Machine learning models can also incorporate fuzzy matching techniques to handle typos, abbreviations, or slight variations in text. This improves the matching when data is messy or inconsistent."
   ]
  },
  {
   "cell_type": "code",
   "execution_count": 0,
   "metadata": {
    "application/vnd.databricks.v1+cell": {
     "cellMetadata": {},
     "inputWidgets": {},
     "nuid": "47d764b1-af3e-4169-832c-39a0e79143c6",
     "showTitle": false,
     "tableResultSettingsMap": {},
     "title": ""
    }
   },
   "outputs": [],
   "source": []
  },
  {
   "cell_type": "markdown",
   "metadata": {
    "application/vnd.databricks.v1+cell": {
     "cellMetadata": {
      "byteLimit": 2048000,
      "rowLimit": 10000
     },
     "inputWidgets": {},
     "nuid": "1d3f5f97-dcfd-433c-bfb5-56f5e5c978f1",
     "showTitle": false,
     "tableResultSettingsMap": {},
     "title": ""
    }
   },
   "source": [
    "# Deploy"
   ]
  },
  {
   "cell_type": "code",
   "execution_count": 0,
   "metadata": {
    "application/vnd.databricks.v1+cell": {
     "cellMetadata": {},
     "inputWidgets": {},
     "nuid": "30993913-ba2b-4aa8-8300-3ad869a4ea09",
     "showTitle": false,
     "tableResultSettingsMap": {},
     "title": ""
    }
   },
   "outputs": [],
   "source": []
  },
  {
   "cell_type": "code",
   "execution_count": 0,
   "metadata": {
    "application/vnd.databricks.v1+cell": {
     "cellMetadata": {},
     "inputWidgets": {},
     "nuid": "5f7f16a1-8ce2-4245-b3f6-a9730a2308e7",
     "showTitle": false,
     "tableResultSettingsMap": {},
     "title": ""
    }
   },
   "outputs": [],
   "source": [
    "#  Preparing for API Implementation\n",
    "# Once your EDA and preprocessing are complete, you can use the cleaned and merged data as the data source for your API. The API might then:\n",
    "\n",
    "# Receive Search Queries:\n",
    "# For example, matching room types, filtering by supplier, or price ranges (if you add pricing information later).\n",
    "# Query the Processed Data:\n",
    "# Use SQL queries or in-memory filtering (if using a framework like Flask with pandas) to return the results based on user input.\n",
    "# Return a JSON Response:\n",
    "# Structure your API response to return only the necessary fields (e.g., room details, supplier information)."
   ]
  },
  {
   "cell_type": "markdown",
   "metadata": {
    "application/vnd.databricks.v1+cell": {
     "cellMetadata": {},
     "inputWidgets": {},
     "nuid": "51bc98bf-eb6b-4a06-a4d3-cd0310e90835",
     "showTitle": false,
     "tableResultSettingsMap": {},
     "title": ""
    }
   },
   "source": [
    "# Appendix"
   ]
  },
  {
   "cell_type": "code",
   "execution_count": 0,
   "metadata": {
    "application/vnd.databricks.v1+cell": {
     "cellMetadata": {},
     "inputWidgets": {},
     "nuid": "6ace1bf3-3e10-47d4-b6f2-2cb475a29788",
     "showTitle": false,
     "tableResultSettingsMap": {},
     "title": ""
    }
   },
   "outputs": [],
   "source": [
    "import re\n",
    "import pandas as pd\n",
    "from sklearn.feature_extraction.text import TfidfVectorizer, HashingVectorizer\n",
    "from sklearn.neighbors import NearestNeighbors\n",
    "import logging\n",
    "\n",
    "logging.basicConfig(level=logging.INFO)\n",
    "\n",
    "def preprocess_text(text):\n",
    "    \"\"\"Lowercase, remove special characters and extra spaces.\"\"\"\n",
    "    text = text.lower()\n",
    "    text = re.sub(r'[^a-z0-9 ]', '', text)  # Keep only alphanumeric\n",
    "    text = re.sub(r'\\s+', ' ', text).strip()  # Remove extra spaces\n",
    "    return text\n",
    "\n",
    "\n",
    "def preprocessing_steps(hotel_rooms, supplier_rooms):\n",
    "\n",
    "    # PRE  PRE PROCESSING & CLEANING DATA\n",
    "    hotel_rooms_copy,supplier_rooms_copy = hotel_rooms.copy(), supplier_rooms.copy()\n",
    "    # Apply cleaning\n",
    "    hotel_rooms_copy[\"clean_room_name\"] = hotel_rooms_copy[\"room_name\"].apply(preprocess_text)\n",
    "    supplier_rooms_copy.dropna(inplace=True)\n",
    "    supplier_rooms_copy[\"clean_supplier_room_name\"] = supplier_rooms_copy[\"supplier_room_name\"].apply(preprocess_text)\n",
    "\n",
    "    # NOTE: Now, each unique room name has a list of associated room IDs instead of duplicates.\n",
    "    hotel_rooms_grouped = hotel_rooms_copy.groupby(\"clean_room_name\")[\"room_id\"].apply(list).reset_index()\n",
    "    supplier_rooms_grouped = supplier_rooms_copy.groupby(\"clean_supplier_room_name\")[\"supplier_room_id\"].apply(\n",
    "        list).reset_index()\n",
    "    \n",
    "    print('hotel_rooms_grouped shape', hotel_rooms_grouped.shape)\n",
    "    print('supplier_rooms_grouped shape', supplier_rooms_grouped.shape)\n",
    "\n",
    "    # Use only unique room names for TF-IDF vectorization.\n",
    "    # Later, map back to the original room IDs.\n",
    "\n",
    "    # Extract unique room names\n",
    "    unique_hotel_names = hotel_rooms_grouped[\"clean_room_name\"].tolist()\n",
    "    unique_supplier_names = supplier_rooms_grouped[\"clean_supplier_room_name\"].tolist()\n",
    "    print('unique_hotel_names', len(unique_hotel_names))\n",
    "    print('unique_supplier_names', len(unique_supplier_names))\n",
    "\n",
    "    # Compute TF-IDF only on unique names\n",
    "    # TODO: MOVE THIS TO ITS OWN FUNCTION\n",
    "    vectorizer = TfidfVectorizer()\n",
    "    all_unique_room_names = unique_hotel_names + unique_supplier_names\n",
    "\n",
    "\n",
    "\n",
    "    print('all_unique_room_names', len(all_unique_room_names))\n",
    "\n",
    "    tfidf_matrix = vectorizer.fit_transform(all_unique_room_names)\n",
    "    print('FITTED  MATRIX')\n",
    "\n",
    "\n",
    "    # Split matrices and hotel_vectors\n",
    "    print('len(unique_hotel_names)', len(unique_hotel_names))\n",
    "    hotel_vectors = tfidf_matrix[:len(unique_hotel_names)]\n",
    "    supplier_vectors = tfidf_matrix[len(unique_hotel_names):\n",
    "        ]\n",
    "\n",
    "    # ******************************************************\n",
    "\n",
    "    \n",
    "    #return hotel_rooms_grouped,supplier_rooms_grouped,all_unique_room_names, vectorizer, tfidf_matrix, supplier_vectors\n",
    "\n",
    "    print('supplier_vectors shape first func', supplier_vectors.shape)\n",
    "\n",
    "    return hotel_vectors, supplier_vectors, hotel_rooms_grouped, supplier_rooms_grouped\n",
    "\n",
    "\n",
    "def find_best_matches(supplier_vectors,\n",
    "                      hotel_vectors,\n",
    "                      hotel_rooms_grouped,\n",
    "                      supplier_rooms_grouped, \n",
    "                      top_k=5, \n",
    "                      threshold=0.75):\n",
    "\n",
    "    # Initialize kNN model with cosine similarity\n",
    "    knn = NearestNeighbors(n_neighbors=top_k, metric=\"cosine\", algorithm=\"auto\")\n",
    "    print('supplier_vectors shape before fitted',supplier_vectors.shape)\n",
    "\n",
    "    knn.fit(supplier_vectors)  # Fit on supplier rooms\n",
    "    \n",
    "    print('supplier_vectors shape after fitted',supplier_vectors.shape)\n",
    "\n",
    "    # Find top-k similar rooms for hotel rooms\n",
    "    distances, indices = knn.kneighbors(hotel_vectors, return_distance=True)\n",
    "    hotel_room_ids = hotel_rooms_grouped.room_id.values  # Ensure correct ordering\n",
    "    supplier_room_ids = supplier_rooms_grouped.supplier_room_id.values\n",
    "    print('hotel_room_ids', len(hotel_room_ids))\n",
    "\n",
    "    # Convert to DataFrame\n",
    "    matches = []\n",
    "    for i, hotel_room_id in enumerate(hotel_room_ids):\n",
    "        for j in range(top_k):\n",
    "            supplier_index = indices[i][j]\n",
    "            supplier_room_id = supplier_room_ids[supplier_index]\n",
    "            similarity_score = 1 - distances[i][j]  # Convert cosine distance to similarity\n",
    "\n",
    "            matches.append((hotel_room_id, supplier_room_id, similarity_score))\n",
    "\n",
    "    matches_df = pd.DataFrame(matches, columns=[\"hotel_room_id\", \"supplier_room_id\", \"similarity_score\"])\n",
    "\n",
    "    print('matches_df shape', matches_df.shape)\n",
    "    print('threshold', threshold)\n",
    "\n",
    "    best_matches_df = matches_df[matches_df[\"similarity_score\"] >threshold]\n",
    "\n",
    "    return best_matches_df\n",
    "\n",
    "\n",
    "hotel_vectors1,supplier_vectors1,hotel_rooms_grouped1,supplier_rooms_grouped1 = preprocessing_steps(hotel_rooms,supplier_rooms \n",
    "                                                                                             )\n",
    "\n",
    "best_matches_df1 = find_best_matches(supplier_vectors1,\n",
    "                                     hotel_vectors1,\n",
    "                                     hotel_rooms_grouped1,\n",
    "                                     supplier_rooms_grouped1,\n",
    "                                      top_k=5, \n",
    "                                      threshold=0.75)\n"
   ]
  }
 ],
 "metadata": {
  "application/vnd.databricks.v1+notebook": {
   "computePreferences": null,
   "dashboards": [],
   "environmentMetadata": null,
   "language": "python",
   "notebookMetadata": {
    "pythonIndentUnit": 4
   },
   "notebookName": "dev_notebook",
   "widgets": {}
  },
  "kernelspec": {
   "display_name": "Python 3",
   "language": "python",
   "name": "python3"
  },
  "language_info": {
   "name": "python"
  }
 },
 "nbformat": 4,
 "nbformat_minor": 0
}
