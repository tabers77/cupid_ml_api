{
 "cells": [
  {
   "cell_type": "code",
   "execution_count": 0,
   "metadata": {
    "application/vnd.databricks.v1+cell": {
     "cellMetadata": {
      "byteLimit": 2048000,
      "rowLimit": 10000
     },
     "inputWidgets": {},
     "nuid": "e5cd9e24-b0a5-4eac-a50a-4efd4ffd1526",
     "showTitle": false,
     "tableResultSettingsMap": {},
     "title": ""
    }
   },
   "outputs": [],
   "source": [
    "# ---------------\n",
    "# INITIAL IMPORTS \n",
    "# ---------------\n",
    "\n",
    "import sys\n",
    "repo_path ='carlos.delacruz@storaenso.com/cupid_ml_api'\n",
    "sys.path.append(f\"/Workspace/Repos/{repo_path}\")\n",
    "import matplotlib.pyplot as plt\n",
    "import pickle"
   ]
  },
  {
   "cell_type": "code",
   "execution_count": 0,
   "metadata": {
    "application/vnd.databricks.v1+cell": {
     "cellMetadata": {
      "byteLimit": 2048000,
      "rowLimit": 10000
     },
     "inputWidgets": {},
     "nuid": "ba33ecb1-fa6a-4348-b630-4815097acb04",
     "showTitle": false,
     "tableResultSettingsMap": {},
     "title": ""
    }
   },
   "outputs": [],
   "source": [
    "import pandas as pd \n",
    "hotel_rooms = pd.read_csv(\"/dbfs/FileStore/cupid/referance_rooms_1737378184366.csv\")\n",
    "supplier_rooms = pd.read_csv(\"/dbfs/FileStore/cupid/updated_core_rooms.csv\")"
   ]
  },
  {
   "cell_type": "code",
   "execution_count": 0,
   "metadata": {
    "application/vnd.databricks.v1+cell": {
     "cellMetadata": {
      "byteLimit": 2048000,
      "rowLimit": 10000
     },
     "inputWidgets": {},
     "nuid": "dc81735a-fee1-40c6-869a-c5cb64c7aed9",
     "showTitle": false,
     "tableResultSettingsMap": {},
     "title": ""
    }
   },
   "outputs": [],
   "source": [
    "# -----\n",
    "# MERGE \n",
    "# -----\n",
    "merged1 = pd.merge( hotel_rooms,supplier_rooms, on='lp_id', how='left')\n",
    "merged2 = pd.merge( hotel_rooms,supplier_rooms, on='lp_id', how='inner')"
   ]
  },
  {
   "cell_type": "markdown",
   "metadata": {
    "application/vnd.databricks.v1+cell": {
     "cellMetadata": {},
     "inputWidgets": {},
     "nuid": "c5987140-32f4-4302-a749-229eddf170d3",
     "showTitle": false,
     "tableResultSettingsMap": {},
     "title": ""
    }
   },
   "source": [
    "# EDA observations"
   ]
  },
  {
   "cell_type": "markdown",
   "metadata": {
    "application/vnd.databricks.v1+cell": {
     "cellMetadata": {},
     "inputWidgets": {},
     "nuid": "63ba71ec-9f40-45ce-907e-62f4aa8f3b72",
     "showTitle": false,
     "tableResultSettingsMap": {},
     "title": ""
    }
   },
   "source": [
    "## Frequency & Distribution Analysis"
   ]
  },
  {
   "cell_type": "code",
   "execution_count": 0,
   "metadata": {
    "application/vnd.databricks.v1+cell": {
     "cellMetadata": {
      "byteLimit": 2048000,
      "rowLimit": 10000
     },
     "inputWidgets": {},
     "nuid": "bbe0ad78-dcea-4f89-bbcb-d56d9594f235",
     "showTitle": false,
     "tableResultSettingsMap": {},
     "title": ""
    }
   },
   "outputs": [],
   "source": [
    "match_counts = merged1.groupby('room_id')['supplier_room_name'].nunique()\n",
    "match_counts.describe()"
   ]
  },
  {
   "cell_type": "code",
   "execution_count": 0,
   "metadata": {
    "application/vnd.databricks.v1+cell": {
     "cellMetadata": {
      "byteLimit": 2048000,
      "rowLimit": 10000
     },
     "inputWidgets": {},
     "nuid": "4d683aff-c9ac-48fe-ae8f-efb946548465",
     "showTitle": false,
     "tableResultSettingsMap": {},
     "title": ""
    }
   },
   "outputs": [],
   "source": [
    "plt.figure(figsize=(10, 5))\n",
    "plt.hist(match_counts, bins=50, edgecolor='black')\n",
    "plt.title(\"Distribution of Supplier Room Matches per Hotel Room\")\n",
    "plt.xlabel(\"Number of Supplier Rooms per Hotel Room\")\n",
    "plt.ylabel(\"Count of Hotel Rooms\")\n",
    "plt.yscale(\"log\")  # Log scale helps if distribution is highly skewed\n",
    "plt.grid(True)\n",
    "plt.show()\n"
   ]
  },
  {
   "cell_type": "code",
   "execution_count": 0,
   "metadata": {
    "application/vnd.databricks.v1+cell": {
     "cellMetadata": {
      "byteLimit": 2048000,
      "rowLimit": 10000
     },
     "inputWidgets": {},
     "nuid": "c734f26c-9850-4537-a20f-8de9ebd05449",
     "showTitle": false,
     "tableResultSettingsMap": {},
     "title": ""
    }
   },
   "outputs": [],
   "source": [
    "plt.figure(figsize=(8, 5))\n",
    "plt.boxplot(match_counts, vert=False, patch_artist=True)\n",
    "plt.title(\"Box Plot of Supplier Room Matches per Hotel Room\")\n",
    "plt.xlabel(\"Number of Supplier Rooms per Hotel Room\")\n",
    "plt.grid(True)\n",
    "plt.show()"
   ]
  },
  {
   "cell_type": "markdown",
   "metadata": {
    "application/vnd.databricks.v1+cell": {
     "cellMetadata": {},
     "inputWidgets": {},
     "nuid": "f22ef8ea-4f50-4979-9ffa-b5b0f32b78f9",
     "showTitle": false,
     "tableResultSettingsMap": {},
     "title": ""
    }
   },
   "source": [
    "### Observations\n",
    "- Most hotel rooms have fewer than 20 supplier matches (skewed distribution with a long tail).\n",
    "- A small number of hotel rooms have 40+ supplier matches, and extreme outliers go up to 100.\n",
    "- Outliers are significant (seen in the box plot), meaning some rooms are mapped to way too many supplier rooms."
   ]
  },
  {
   "cell_type": "markdown",
   "metadata": {
    "application/vnd.databricks.v1+cell": {
     "cellMetadata": {},
     "inputWidgets": {},
     "nuid": "fe7e7a93-cf1a-4f2a-a3a9-b5a97c64642f",
     "showTitle": false,
     "tableResultSettingsMap": {},
     "title": ""
    }
   },
   "source": [
    "## Text Similarity Score Analysis\n"
   ]
  },
  {
   "cell_type": "code",
   "execution_count": 0,
   "metadata": {
    "application/vnd.databricks.v1+cell": {
     "cellMetadata": {},
     "inputWidgets": {},
     "nuid": "bde242d3-9093-4d2f-b8d6-32e2d0ec808e",
     "showTitle": false,
     "tableResultSettingsMap": {},
     "title": ""
    }
   },
   "outputs": [],
   "source": [
    "# . Define a Multiplicity Handling Strategy\n",
    "# Since one hotel room can match multiple supplier rooms, you need to decide how to filter or rank these matches:\n",
    "\n",
    "# Option A: Keep only the Top-N matches per hotel room\n",
    "# Based on similarity scores (if calculated later).\n",
    "# Example: Keep only the top 3 or top 5 supplier rooms per hotel room.\n",
    "# Option B: Apply a similarity score threshold\n",
    "# If a match is below a certain similarity (e.g., cosine similarity < 0.7), discard it.\n",
    "# Option C: Business Rule Filtering\n",
    "# Prioritize supplier rooms from trusted suppliers over others.\n",
    "# Keep supplier rooms that have the most common words with the hotel room name."
   ]
  },
  {
   "cell_type": "code",
   "execution_count": 0,
   "metadata": {
    "application/vnd.databricks.v1+cell": {
     "cellMetadata": {},
     "inputWidgets": {},
     "nuid": "40d8d4dc-d9d2-421a-9678-01d139dd560f",
     "showTitle": false,
     "tableResultSettingsMap": {},
     "title": ""
    }
   },
   "outputs": [],
   "source": []
  },
  {
   "cell_type": "markdown",
   "metadata": {
    "application/vnd.databricks.v1+cell": {
     "cellMetadata": {},
     "inputWidgets": {},
     "nuid": "f4904d57-ab57-404d-9329-9377f4212ce0",
     "showTitle": false,
     "tableResultSettingsMap": {},
     "title": ""
    }
   },
   "source": [
    "## Model "
   ]
  },
  {
   "cell_type": "code",
   "execution_count": 0,
   "metadata": {
    "application/vnd.databricks.v1+cell": {
     "cellMetadata": {},
     "inputWidgets": {},
     "nuid": "47d764b1-af3e-4169-832c-39a0e79143c6",
     "showTitle": false,
     "tableResultSettingsMap": {},
     "title": ""
    }
   },
   "outputs": [],
   "source": []
  },
  {
   "cell_type": "markdown",
   "metadata": {
    "application/vnd.databricks.v1+cell": {
     "cellMetadata": {},
     "inputWidgets": {},
     "nuid": "29fd0aa4-9bfc-4208-8000-b6d92b362896",
     "showTitle": false,
     "tableResultSettingsMap": {},
     "title": ""
    }
   },
   "source": [
    "# RoomMatcher"
   ]
  },
  {
   "cell_type": "code",
   "execution_count": 0,
   "metadata": {
    "application/vnd.databricks.v1+cell": {
     "cellMetadata": {
      "byteLimit": 2048000,
      "rowLimit": 10000
     },
     "inputWidgets": {},
     "nuid": "06068b60-1d59-4263-bd86-42b7faf95fd8",
     "showTitle": false,
     "tableResultSettingsMap": {},
     "title": ""
    }
   },
   "outputs": [],
   "source": [
    "from models.room_matcher import RoomMatcher\n",
    "\n",
    "matcher = RoomMatcher()"
   ]
  },
  {
   "cell_type": "code",
   "execution_count": 0,
   "metadata": {
    "application/vnd.databricks.v1+cell": {
     "cellMetadata": {
      "byteLimit": 2048000,
      "rowLimit": 10000
     },
     "inputWidgets": {},
     "nuid": "29b15fd1-2dbf-4964-a8d5-e7cc1565be79",
     "showTitle": false,
     "tableResultSettingsMap": {},
     "title": ""
    }
   },
   "outputs": [],
   "source": [
    "# # 1. SAVE MODEL TO DBS This should be stored in repo \n",
    "# hotel_rooms_grouped, supplier_rooms_grouped = matcher.preprocess_data(hotel_rooms, supplier_rooms)\n",
    "# hotel_vectors, supplier_vectors = matcher.vectorize_data(hotel_rooms_grouped, supplier_rooms_grouped)\n"
   ]
  },
  {
   "cell_type": "code",
   "execution_count": 0,
   "metadata": {
    "application/vnd.databricks.v1+cell": {
     "cellMetadata": {},
     "inputWidgets": {},
     "nuid": "e18fae73-804e-4b47-95a6-2a3198498fb1",
     "showTitle": false,
     "tableResultSettingsMap": {},
     "title": ""
    }
   },
   "outputs": [],
   "source": [
    "# 2.  Train and save the model\n",
    "#matcher.knn.fit(supplier_vectors)  # Train the kNN model\n",
    "#matcher.save_model()  # Save the trained models for later API usage"
   ]
  },
  {
   "cell_type": "code",
   "execution_count": 0,
   "metadata": {
    "application/vnd.databricks.v1+cell": {
     "cellMetadata": {
      "byteLimit": 2048000,
      "rowLimit": 10000
     },
     "inputWidgets": {},
     "nuid": "375639f5-dd8a-4e43-8a87-7b9baf5c1050",
     "showTitle": false,
     "tableResultSettingsMap": {},
     "title": ""
    }
   },
   "outputs": [],
   "source": [
    "# 3 Load models \n",
    "vectorizer = pickle.load(open(\"/dbfs/FileStore/cupid/vectorizer.pkl\", \"rb\"))\n",
    "knn_model = pickle.load(open(\"/dbfs/FileStore/cupid/knn_model.pkl\", \"rb\"))\n",
    "\n",
    "## 4. Save preprocessed data  \n",
    "# hotel_rooms_grouped.to_csv(\"/dbfs/FileStore/cupid/preprocessed_hotel_rooms.csv\")\n",
    "# supplier_rooms_grouped.to_csv(\"/dbfs/FileStore/cupid/preprocessed_supplier_rooms.csv\")\n",
    "\n",
    "# 5. Load room data\n",
    "#hotel_rooms_grouped = pd.read_csv(\"datasets/preprocessed_hotel_rooms.csv\")  # Save this file earlier\n",
    "#supplier_rooms_grouped = pd.read_csv(\"datasets/preprocessed_supplier_rooms.csv\")  # Save this file earlier\n",
    "supplier_rooms_grouped = pd.read_csv(\"/dbfs/FileStore/cupid/preprocessed_supplier_rooms.csv\")  # Save this file earlier"
   ]
  },
  {
   "cell_type": "code",
   "execution_count": 0,
   "metadata": {
    "application/vnd.databricks.v1+cell": {
     "cellMetadata": {
      "byteLimit": 2048000,
      "rowLimit": 10000
     },
     "inputWidgets": {},
     "nuid": "7b71e96e-531d-487d-bc65-680eb34a40cb",
     "showTitle": false,
     "tableResultSettingsMap": {},
     "title": ""
    }
   },
   "outputs": [],
   "source": [
    "from models.room_matcher import match_rooms_test\n",
    "\n",
    "results, unmapped_rooms = match_rooms_test(vectorizer=vectorizer, \n",
    "                 knn_model=knn_model, \n",
    "                 supplier_rooms_grouped=supplier_rooms_grouped, \n",
    "                 room_name= 'Roome Deluxe'\n",
    "                 )"
   ]
  },
  {
   "cell_type": "code",
   "execution_count": 0,
   "metadata": {
    "application/vnd.databricks.v1+cell": {
     "cellMetadata": {
      "byteLimit": 2048000,
      "rowLimit": 10000
     },
     "inputWidgets": {},
     "nuid": "99970ae6-01a9-40c0-b0c5-08053e385f7f",
     "showTitle": false,
     "tableResultSettingsMap": {},
     "title": ""
    }
   },
   "outputs": [],
   "source": [
    "results"
   ]
  },
  {
   "cell_type": "markdown",
   "metadata": {
    "application/vnd.databricks.v1+cell": {
     "cellMetadata": {},
     "inputWidgets": {},
     "nuid": "139b5c3e-a7b8-4a4c-a3e5-699f93dafa4c",
     "showTitle": false,
     "tableResultSettingsMap": {},
     "title": ""
    }
   },
   "source": [
    "# Evaluation Experiments"
   ]
  },
  {
   "cell_type": "code",
   "execution_count": 0,
   "metadata": {
    "application/vnd.databricks.v1+cell": {
     "cellMetadata": {},
     "inputWidgets": {},
     "nuid": "e43e458c-bca2-4641-8131-cf8223a294cb",
     "showTitle": false,
     "tableResultSettingsMap": {},
     "title": ""
    }
   },
   "outputs": [],
   "source": [
    "# Data Splitting: Divide your labeled data into training, validation, and test sets. The test set should remain unseen for final evaluation.\n",
    "\n",
    "#  Use Existing Datasets\n",
    "# Leverage your preprocessed datasets (e.g., preprocessed_supplier_rooms.csv and a similar file for hotel rooms) and augment them with labels. This step might involve aligning room names manually for a subset of data.\n",
    "\n",
    "\n",
    "# 4. Hyperparameter & Model Tuning\n",
    "# a. Hyperparameters to Consider:\n",
    "\n",
    "# k in kNN (top_k): Test different values for n_neighbors to see how it affects precision and recall.\n",
    "# Threshold Value: Experiment with thresholds lower and higher than 0.75 to find the optimal trade-off between false positives and false negatives.\n",
    "# TF-IDF Parameters: Adjust the n-gram range, max_features, or stop words to see their impact on vector quality.\n",
    "# b. Tuning Strategy:\n",
    "\n",
    "# Grid or Random Search: Use grid search or random search methods over the defined hyperparameter space.\n",
    "# Automated Metrics Logging: Record evaluation metrics (F1, MRR, MAP, etc.) for each configuration to visualize performance improvements.\n",
    "# 5. Model Explainability\n",
    "# a. Feature Importance\n",
    "\n",
    "# Use tools like LIME or SHAP to interpret which words or tokens are contributing most to the similarity scores.\n",
    "# Case Studies: For a few example room names, generate explanations that highlight key features leading to a match decision.\n",
    "# b. Transparency:\n",
    "\n",
    "# Document the explainability findings to provide insights into model decisions, which is particularly useful if you need to justify model behavior to stakeholders.\n",
    "# 6. Concrete Example & Experiment\n",
    "# Example Scenario:\n",
    "\n",
    "# Input: “Deluxe King Suite”\n",
    "# Expected Matches: You might expect a high similarity score for supplier room names like “deluxe king suite” or “luxury king suite.”\n",
    "# Evaluation:\n",
    "# Calculate the cosine similarity for this query against your supplier room vectors.\n",
    "# If the correct supplier room appears within the top-3 predictions and has a similarity score above the optimal threshold determined through your threshold analysis, it counts as a true positive.\n",
    "# Record the position of the first true match to compute MRR.\n",
    "# Experiment:\n",
    "\n",
    "# Run the model on a subset of the labeled dataset and compute precision, recall, F1, MRR, and MAP.\n",
    "# Vary the threshold and k values while plotting the corresponding precision-recall curves to visually determine optimal settings.\n",
    "\n",
    "# 7. Continuous Monitoring & Improvement\n",
    "# Regular Re-Evaluation: As new data comes in, periodically re-run the evaluation suite to monitor for model drift.\n",
    "# A/B Testing: Deploy different versions of your API to small subsets of traffic to compare performance in a live environment.\n",
    "# Summary\n",
    "# This evaluation plan ensures that you systematically measure both the matching accuracy and the ranking quality of your model. By combining manual labeling, a variety of metrics, automated tests, and hyperparameter tuning, you can continuously improve your room-matching API. This structured approach not only helps in achieving better precision and recall but also enhances the overall robustness and explainability of your model.\n",
    "\n",
    "# Feel free to ask for further details or clarifications on any of the steps!\n"
   ]
  },
  {
   "cell_type": "code",
   "execution_count": 0,
   "metadata": {
    "application/vnd.databricks.v1+cell": {
     "cellMetadata": {
      "byteLimit": 2048000,
      "rowLimit": 10000
     },
     "inputWidgets": {},
     "nuid": "35a7d860-7a86-4754-8781-c9b6a8da83e9",
     "showTitle": false,
     "tableResultSettingsMap": {},
     "title": ""
    }
   },
   "outputs": [],
   "source": [
    "from tqdm import tqdm\n",
    "import pandas as pd\n",
    "from fuzzywuzzy import fuzz\n",
    "from concurrent.futures import ThreadPoolExecutor, as_completed\n",
    "import Levenshtein as lev \n",
    "\n",
    "def fuzzy_match_room(hotel_name, hotel_id, filtered_supplier_rooms, fuzzy_threshold):\n",
    "    \"\"\"\n",
    "    Helper function to compare one hotel room name to all filtered supplier room names and return matches.\n",
    "    \"\"\"\n",
    "    matches = []\n",
    "    for _, supplier_row in filtered_supplier_rooms.iterrows():\n",
    "        supplier_name = supplier_row[\"clean_supplier_room_name\"]\n",
    "        supplier_id = supplier_row[\"supplier_room_id\"]\n",
    "        \n",
    "        # Compute fuzzy matching score (0 to 100)\n",
    "        score = fuzz.token_set_ratio(hotel_name, supplier_name)\n",
    "        if score >= fuzzy_threshold:\n",
    "            matches.append({\n",
    "                \"hotel_room_id\": hotel_id,\n",
    "                \"supplier_room_id\": supplier_id,\n",
    "                \"fuzzy_score\": score,\n",
    "                \"pseudo_match\": 1\n",
    "            })\n",
    "    return matches\n",
    "\n",
    "# ----------------------------------------------------------------------\n",
    "def filter_supplier_rooms(supplier_rooms_grouped, hotel_name):\n",
    "    \"\"\"\n",
    "    Pre-filter supplier rooms based on the length of the room names. \n",
    "    This filters out rooms that are too short or too long compared to the hotel room name.\n",
    "    \"\"\"\n",
    "    average_length = len(hotel_name)\n",
    "    min_length = average_length - 5  # Allow a little variation\n",
    "    max_length = average_length + 5  # Allow a little variation\n",
    "    \n",
    "    # Filter supplier rooms based on length\n",
    "    filtered_supplier_rooms = supplier_rooms_grouped[\n",
    "        supplier_rooms_grouped['clean_supplier_room_name'].apply(lambda x: min_length <= len(x) <= max_length)\n",
    "    ]\n",
    "    \n",
    "    return filtered_supplier_rooms\n",
    "\n",
    "def filter_by_levenshtein_distance(supplier_rooms_grouped, hotel_name, max_distance=5):\n",
    "    \"\"\"\n",
    "    Filter supplier rooms based on the Levenshtein distance from the hotel room name.\n",
    "    If the distance exceeds max_distance, the supplier room is excluded.\n",
    "    \"\"\"\n",
    "    filtered_supplier_rooms = supplier_rooms_grouped[\n",
    "        supplier_rooms_grouped['clean_supplier_room_name'].apply(\n",
    "            lambda supplier_name: lev.distance(hotel_name, supplier_name) <= max_distance\n",
    "        )\n",
    "    ]\n",
    "    return filtered_supplier_rooms\n",
    "\n",
    "def sample_supplier_rooms(supplier_rooms_grouped, sample_size=0.2):\n",
    "    \"\"\"\n",
    "    Randomly sample a subset of supplier rooms. \n",
    "    The sample size is a fraction (0.2 means 20%) of the total supplier rooms.\n",
    "    \"\"\"\n",
    "    sampled_supplier_rooms = supplier_rooms_grouped.sample(frac=sample_size, random_state=42)\n",
    "    return sampled_supplier_rooms\n",
    "# ----------------------------------------------------------------------\n",
    "\n",
    "def generate_pseudo_labels(hotel_rooms_grouped: pd.DataFrame, \n",
    "                           supplier_rooms_grouped: pd.DataFrame,\n",
    "                           fuzzy_threshold: int = 90) -> pd.DataFrame:\n",
    "    \"\"\"\n",
    "    Generate pseudo ground truth labels by comparing cleaned room names\n",
    "    using a fuzzy matching score. If the score is above the threshold,\n",
    "    treat the pair as a match.\n",
    "    \"\"\"\n",
    "    pseudo_matches = []\n",
    "\n",
    "    # Use ThreadPoolExecutor for parallelization\n",
    "    with ThreadPoolExecutor() as executor:\n",
    "        futures = []\n",
    "        \n",
    "        # Loop over all hotel room names and submit each comparison task to the pool\n",
    "        for _, hotel_row in tqdm(hotel_rooms_grouped.iterrows(), total=hotel_rooms_grouped.shape[0], desc=\"Generating Pseudo Labels\"):\n",
    "            hotel_name = hotel_row[\"clean_room_name\"]\n",
    "            hotel_id = hotel_row[\"room_id\"]\n",
    "            \n",
    "            # Pre-filter the supplier rooms based on room name length\n",
    "            # TEST 1\n",
    "            #filtered_supplier_rooms = filter_supplier_rooms(supplier_rooms_grouped, hotel_name)\n",
    "\n",
    "       \n",
    "            # Randomly sample supplier rooms for comparison\n",
    "            supplier_rooms_grouped_sample = sample_supplier_rooms(supplier_rooms_grouped, sample_size=0.05)\n",
    "\n",
    "             # TEST 2\n",
    "            filtered_supplier_rooms = filter_by_levenshtein_distance(supplier_rooms_grouped_sample, hotel_name, max_distance=3)\n",
    "\n",
    "            filtered_supplier_rooms= filtered_supplier_rooms #if use_sample else filtered_supplier_rooms\n",
    "            \n",
    "            # Submit task to ThreadPoolExecutor\n",
    "            futures.append(executor.submit(fuzzy_match_room, hotel_name, hotel_id, filtered_supplier_rooms, fuzzy_threshold))\n",
    "        \n",
    "        # Collect results as they complete\n",
    "        for future in tqdm(as_completed(futures), total=len(futures), desc=\"Collecting Matches\"):\n",
    "            pseudo_matches.extend(future.result())\n",
    "\n",
    "    return pd.DataFrame(pseudo_matches)\n",
    "\n",
    "hotel_rooms_grouped_sample = hotel_rooms_grouped.sample(1000)\n",
    "\n",
    "supplier_rooms_groupeds_sample = supplier_rooms_grouped.sample(10000)\n",
    "\n",
    "pseudo_ground_truth_df = generate_pseudo_labels(hotel_rooms_grouped_sample, supplier_rooms_groupeds_sample, fuzzy_threshold=90)"
   ]
  },
  {
   "cell_type": "code",
   "execution_count": 0,
   "metadata": {
    "application/vnd.databricks.v1+cell": {
     "cellMetadata": {
      "byteLimit": 2048000,
      "rowLimit": 10000
     },
     "inputWidgets": {},
     "nuid": "672a215e-80eb-4f29-a82e-89c38da03471",
     "showTitle": false,
     "tableResultSettingsMap": {},
     "title": ""
    }
   },
   "outputs": [],
   "source": [
    "pseudo_ground_truth_df.head()"
   ]
  },
  {
   "cell_type": "code",
   "execution_count": 0,
   "metadata": {
    "application/vnd.databricks.v1+cell": {
     "cellMetadata": {
      "byteLimit": 2048000,
      "rowLimit": 10000
     },
     "inputWidgets": {},
     "nuid": "274fd064-7a24-40b7-81d7-00d37f2f4b47",
     "showTitle": false,
     "tableResultSettingsMap": {},
     "title": ""
    }
   },
   "outputs": [],
   "source": [
    "# Assume matcher is an instance of RoomMatcher\n",
    "model_matches_df = matcher.match_rooms(hotel_rooms, supplier_rooms)\n",
    "#print(model_matches_df.head())"
   ]
  },
  {
   "cell_type": "code",
   "execution_count": 0,
   "metadata": {
    "application/vnd.databricks.v1+cell": {
     "cellMetadata": {
      "byteLimit": 2048000,
      "rowLimit": 10000
     },
     "inputWidgets": {},
     "nuid": "41128be6-6638-465b-a70d-4543ac5187eb",
     "showTitle": false,
     "tableResultSettingsMap": {},
     "title": ""
    }
   },
   "outputs": [],
   "source": [
    "model_matches_df.head()"
   ]
  },
  {
   "cell_type": "code",
   "execution_count": 0,
   "metadata": {
    "application/vnd.databricks.v1+cell": {
     "cellMetadata": {
      "byteLimit": 2048000,
      "rowLimit": 10000
     },
     "inputWidgets": {},
     "nuid": "544a6ae4-a2fe-473d-8f93-3f5f1b4a48e7",
     "showTitle": false,
     "tableResultSettingsMap": {},
     "title": ""
    }
   },
   "outputs": [],
   "source": [
    "pseudo_ground_truth_df[['hotel_room_id', 'supplier_room_id', 'pseudo_match']]"
   ]
  },
  {
   "cell_type": "code",
   "execution_count": 0,
   "metadata": {
    "application/vnd.databricks.v1+cell": {
     "cellMetadata": {
      "byteLimit": 2048000,
      "rowLimit": 10000
     },
     "inputWidgets": {},
     "nuid": "28fe4cc2-aeb2-4a07-94cb-88642d1ec5bb",
     "showTitle": false,
     "tableResultSettingsMap": {},
     "title": ""
    }
   },
   "outputs": [],
   "source": [
    "model_matches_df[\"hotel_room_id_test\"] = model_matches_df[\"hotel_room_id\"].str[0]\n",
    "model_matches_df[\"supplier_room_id_test\"] = model_matches_df[\"supplier_room_id\"].str[0]\n",
    "\n",
    "pseudo_ground_truth_df[\"hotel_room_id_test\"] = pseudo_ground_truth_df[\"hotel_room_id\"].str[0]\n",
    "pseudo_ground_truth_df[\"supplier_room_id_test\"] = pseudo_ground_truth_df[\"supplier_room_id\"].str[0]\n"
   ]
  },
  {
   "cell_type": "code",
   "execution_count": 0,
   "metadata": {
    "application/vnd.databricks.v1+cell": {
     "cellMetadata": {
      "byteLimit": 2048000,
      "rowLimit": 10000
     },
     "inputWidgets": {},
     "nuid": "f7ade109-0d23-4ee7-a837-779ace39d7f1",
     "showTitle": false,
     "tableResultSettingsMap": {},
     "title": ""
    }
   },
   "outputs": [],
   "source": [
    "model_matches_df.head()"
   ]
  },
  {
   "cell_type": "code",
   "execution_count": 0,
   "metadata": {
    "application/vnd.databricks.v1+cell": {
     "cellMetadata": {
      "byteLimit": 2048000,
      "rowLimit": 10000
     },
     "inputWidgets": {},
     "nuid": "546b3366-cf56-4ddb-8437-786dfcde5186",
     "showTitle": false,
     "tableResultSettingsMap": {},
     "title": ""
    }
   },
   "outputs": [],
   "source": [
    "evaluation_df = pd.merge(model_matches_df, \n",
    "                         pseudo_ground_truth_df[['hotel_room_id_test', 'supplier_room_id_test', 'pseudo_match']], \n",
    "                         on=[\"hotel_room_id_test\", \"supplier_room_id_test\"],\n",
    "                         how=\"left\")"
   ]
  },
  {
   "cell_type": "code",
   "execution_count": 0,
   "metadata": {
    "application/vnd.databricks.v1+cell": {
     "cellMetadata": {
      "byteLimit": 2048000,
      "rowLimit": 10000
     },
     "inputWidgets": {},
     "nuid": "b7e1751e-fcb0-471e-899c-b309e4500058",
     "showTitle": false,
     "tableResultSettingsMap": {},
     "title": ""
    }
   },
   "outputs": [],
   "source": [
    "evaluation_df.head()"
   ]
  },
  {
   "cell_type": "code",
   "execution_count": 0,
   "metadata": {
    "application/vnd.databricks.v1+cell": {
     "cellMetadata": {
      "byteLimit": 2048000,
      "rowLimit": 10000
     },
     "inputWidgets": {},
     "nuid": "1b4751ec-a281-42b5-9953-89a962f6b0a3",
     "showTitle": false,
     "tableResultSettingsMap": {},
     "title": ""
    }
   },
   "outputs": [],
   "source": [
    "# Merge model predictions with pseudo ground truth on hotel_room_id and supplier_room_id.\n",
    "evaluation_df = pd.merge(model_matches_df, \n",
    "                         pseudo_ground_truth_df[['hotel_room_id_test', 'supplier_room_id_test', 'pseudo_match']], \n",
    "                         on=[\"hotel_room_id_test\", \"supplier_room_id_test\"],\n",
    "                         how=\"left\")\n",
    "\n",
    "# Fill missing pseudo_match values with 0 (i.e., not a match in pseudo labels)\n",
    "evaluation_df[\"pseudo_match\"].fillna(0, inplace=True)\n",
    "\n",
    "# For evaluation, use the pseudo_match column as the ground truth\n",
    "y_true = evaluation_df[\"pseudo_match\"]  # 1 if rule-based match, 0 otherwise\n",
    "# Your model predicted these pairs as matches, so assign predicted labels as 1 for all candidates.\n",
    "y_pred = [1] * len(evaluation_df)\n",
    "\n",
    "print(\"Evaluation Data Sample:\")\n",
    "#print(evaluation_df.head())\n"
   ]
  },
  {
   "cell_type": "code",
   "execution_count": 0,
   "metadata": {
    "application/vnd.databricks.v1+cell": {
     "cellMetadata": {
      "byteLimit": 2048000,
      "rowLimit": 10000
     },
     "inputWidgets": {},
     "nuid": "ed0adc74-8349-424c-8aa3-0316fa45c123",
     "showTitle": false,
     "tableResultSettingsMap": {},
     "title": ""
    }
   },
   "outputs": [],
   "source": [
    "y_true"
   ]
  },
  {
   "cell_type": "code",
   "execution_count": 0,
   "metadata": {
    "application/vnd.databricks.v1+cell": {
     "cellMetadata": {
      "byteLimit": 2048000,
      "rowLimit": 10000
     },
     "inputWidgets": {},
     "nuid": "99f86091-8aae-4efe-adf2-09853b0e9fa8",
     "showTitle": false,
     "tableResultSettingsMap": {},
     "title": ""
    }
   },
   "outputs": [],
   "source": [
    "y_pred"
   ]
  },
  {
   "cell_type": "code",
   "execution_count": 0,
   "metadata": {
    "application/vnd.databricks.v1+cell": {
     "cellMetadata": {
      "byteLimit": 2048000,
      "rowLimit": 10000
     },
     "inputWidgets": {},
     "nuid": "ab010abe-0929-4704-b5a8-45083760f6d2",
     "showTitle": false,
     "tableResultSettingsMap": {},
     "title": ""
    }
   },
   "outputs": [],
   "source": [
    "from sklearn.metrics import precision_score, recall_score, f1_score\n",
    "\n",
    "precision = precision_score(y_true, y_pred)\n",
    "# For recall and F1, you would need a full set of negatives (non-matches), \n",
    "# which might require a broader sampling strategy.\n",
    "# For demonstration, we compute recall and F1 on our candidate set.\n",
    "recall = recall_score(y_true, y_pred)\n",
    "f1 = f1_score(y_true, y_pred)\n",
    "\n",
    "print(f\"Precision: {precision:.2f}\")\n",
    "print(f\"Recall: {recall:.2f}\")\n",
    "print(f\"F1-score: {f1:.2f}\")\n"
   ]
  }
 ],
 "metadata": {
  "application/vnd.databricks.v1+notebook": {
   "computePreferences": null,
   "dashboards": [],
   "environmentMetadata": null,
   "language": "python",
   "notebookMetadata": {
    "pythonIndentUnit": 4
   },
   "notebookName": "dev_notebook",
   "widgets": {}
  },
  "kernelspec": {
   "display_name": "Python 3",
   "language": "python",
   "name": "python3"
  },
  "language_info": {
   "name": "python"
  }
 },
 "nbformat": 4,
 "nbformat_minor": 0
}
